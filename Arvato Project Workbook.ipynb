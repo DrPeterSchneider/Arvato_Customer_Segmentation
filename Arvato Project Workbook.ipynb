{
 "cells": [
  {
   "cell_type": "markdown",
   "metadata": {},
   "source": [
    "# Capstone Project: Create a Customer Segmentation Report for Arvato Financial Services\n",
    "\n",
    "In this project, you will analyze demographics data for customers of a mail-order sales company in Germany, comparing it against demographics information for the general population. You'll use unsupervised learning techniques to perform customer segmentation, identifying the parts of the population that best describe the core customer base of the company. Then, you'll apply what you've learned on a third dataset with demographics information for targets of a marketing campaign for the company, and use a model to predict which individuals are most likely to convert into becoming customers for the company. The data that you will use has been provided by our partners at Bertelsmann Arvato Analytics, and represents a real-life data science task.\n",
    "\n",
    "If you completed the first term of this program, you will be familiar with the first part of this project, from the unsupervised learning project. The versions of those two datasets used in this project will include many more features and has not been pre-cleaned. You are also free to choose whatever approach you'd like to analyzing the data rather than follow pre-determined steps. In your work on this project, make sure that you carefully document your steps and decisions, since your main deliverable for this project will be a blog post reporting your findings."
   ]
  },
  {
   "cell_type": "code",
   "execution_count": 161,
   "metadata": {},
   "outputs": [],
   "source": [
    "# import libraries here; add more as necessary\n",
    "import numpy as np\n",
    "import pandas as pd\n",
    "import math\n",
    "import matplotlib.pyplot as plt\n",
    "import pickle\n",
    "from sklearn import preprocessing\n",
    "from sklearn.decomposition import PCA\n",
    "from sklearn.cluster import KMeans\n",
    "from sklearn.model_selection import StratifiedKFold\n",
    "from sklearn.metrics import roc_auc_score, make_scorer\n",
    "from sklearn.model_selection import GridSearchCV\n",
    "from sklearn.ensemble import GradientBoostingRegressor \n",
    "from xgboost.sklearn import XGBRegressor \n",
    "\n",
    "# magic word for producing visualizations in notebook\n",
    "%matplotlib inline"
   ]
  },
  {
   "cell_type": "markdown",
   "metadata": {},
   "source": [
    "## Part 0: Get to Know the Data\n",
    "\n",
    "There are four data files associated with this project:\n",
    "\n",
    "- `Udacity_AZDIAS_052018.csv`: Demographics data for the general population of Germany; 891 211 persons (rows) x 366 features (columns).\n",
    "- `Udacity_CUSTOMERS_052018.csv`: Demographics data for customers of a mail-order company; 191 652 persons (rows) x 369 features (columns).\n",
    "- `Udacity_MAILOUT_052018_TRAIN.csv`: Demographics data for individuals who were targets of a marketing campaign; 42 982 persons (rows) x 367 (columns).\n",
    "- `Udacity_MAILOUT_052018_TEST.csv`: Demographics data for individuals who were targets of a marketing campaign; 42 833 persons (rows) x 366 (columns).\n",
    "\n",
    "Each row of the demographics files represents a single person, but also includes information outside of individuals, including information about their household, building, and neighborhood. Use the information from the first two files to figure out how customers (\"CUSTOMERS\") are similar to or differ from the general population at large (\"AZDIAS\"), then use your analysis to make predictions on the other two files (\"MAILOUT\"), predicting which recipients are most likely to become a customer for the mail-order company.\n",
    "\n",
    "The \"CUSTOMERS\" file contains three extra columns ('CUSTOMER_GROUP', 'ONLINE_PURCHASE', and 'PRODUCT_GROUP'), which provide broad information about the customers depicted in the file. The original \"MAILOUT\" file included one additional column, \"RESPONSE\", which indicated whether or not each recipient became a customer of the company. For the \"TRAIN\" subset, this column has been retained, but in the \"TEST\" subset it has been removed; it is against that withheld column that your final predictions will be assessed in the Kaggle competition.\n",
    "\n",
    "Otherwise, all of the remaining columns are the same between the three data files. For more information about the columns depicted in the files, you can refer to two Excel spreadsheets provided in the workspace. [One of them](./DIAS Information Levels - Attributes 2017.xlsx) is a top-level list of attributes and descriptions, organized by informational category. [The other](./DIAS Attributes - Values 2017.xlsx) is a detailed mapping of data values for each feature in alphabetical order.\n",
    "\n",
    "In the below cell, we've provided some initial code to load in the first two datasets. Note for all of the `.csv` data files in this project that they're semicolon (`;`) delimited, so an additional argument in the [`read_csv()`](https://pandas.pydata.org/pandas-docs/stable/generated/pandas.read_csv.html) call has been included to read in the data properly. Also, considering the size of the datasets, it may take some time for them to load completely.\n",
    "\n",
    "You'll notice when the data is loaded in that a warning message will immediately pop up. Before you really start digging into the modeling and analysis, you're going to need to perform some cleaning. Take some time to browse the structure of the data and look over the informational spreadsheets to understand the data values. Make some decisions on which features to keep, which features to drop, and if any revisions need to be made on data formats. It'll be a good idea to create a function with pre-processing steps, since you'll need to clean all of the datasets before you work with them."
   ]
  },
  {
   "cell_type": "code",
   "execution_count": 2,
   "metadata": {},
   "outputs": [],
   "source": [
    "# load in the data\n",
    "azdias_eng = pd.read_csv('azdias_df.csv', sep=',',dtype={'CAMEO_DEUG_2015': object, 'CAMEO_INTL_2015':object})"
   ]
  },
  {
   "cell_type": "markdown",
   "metadata": {},
   "source": [
    "Due to memory shortage on the machine where this notebook is written on I will reduce the size of the the azdias_eng to 50 %. I experienced massive problems with the handling of the dataframe. Anyhow all the steps and analysis can be done without reducing the size on a more powerful machine."
   ]
  },
  {
   "cell_type": "code",
   "execution_count": 3,
   "metadata": {},
   "outputs": [],
   "source": [
    "# select randomly 50% of the rows\n",
    "azdias_eng = azdias_eng.sample( n= int(0.50*(azdias_eng.shape[0])))"
   ]
  },
  {
   "cell_type": "code",
   "execution_count": 4,
   "metadata": {},
   "outputs": [
    {
     "data": {
      "text/html": [
       "<div>\n",
       "<style scoped>\n",
       "    .dataframe tbody tr th:only-of-type {\n",
       "        vertical-align: middle;\n",
       "    }\n",
       "\n",
       "    .dataframe tbody tr th {\n",
       "        vertical-align: top;\n",
       "    }\n",
       "\n",
       "    .dataframe thead th {\n",
       "        text-align: right;\n",
       "    }\n",
       "</style>\n",
       "<table border=\"1\" class=\"dataframe\">\n",
       "  <thead>\n",
       "    <tr style=\"text-align: right;\">\n",
       "      <th></th>\n",
       "      <th>Unnamed: 0</th>\n",
       "      <th>LNR</th>\n",
       "      <th>AGER_TYP</th>\n",
       "      <th>AKT_DAT_KL</th>\n",
       "      <th>ALTER_HH</th>\n",
       "      <th>ALTER_KIND1</th>\n",
       "      <th>ALTER_KIND2</th>\n",
       "      <th>ALTER_KIND3</th>\n",
       "      <th>ALTER_KIND4</th>\n",
       "      <th>ALTERSKATEGORIE_FEIN</th>\n",
       "      <th>...</th>\n",
       "      <th>VHN</th>\n",
       "      <th>VK_DHT4A</th>\n",
       "      <th>VK_DISTANZ</th>\n",
       "      <th>VK_ZG11</th>\n",
       "      <th>W_KEIT_KIND_HH</th>\n",
       "      <th>WOHNDAUER_2008</th>\n",
       "      <th>WOHNLAGE</th>\n",
       "      <th>ZABEOTYP</th>\n",
       "      <th>ANREDE_KZ</th>\n",
       "      <th>ALTERSKATEGORIE_GROB</th>\n",
       "    </tr>\n",
       "  </thead>\n",
       "  <tbody>\n",
       "    <tr>\n",
       "      <th>126949</th>\n",
       "      <td>126949</td>\n",
       "      <td>829778</td>\n",
       "      <td>-1</td>\n",
       "      <td>6.0</td>\n",
       "      <td>16.0</td>\n",
       "      <td>NaN</td>\n",
       "      <td>NaN</td>\n",
       "      <td>NaN</td>\n",
       "      <td>NaN</td>\n",
       "      <td>16.0</td>\n",
       "      <td>...</td>\n",
       "      <td>4.0</td>\n",
       "      <td>10.0</td>\n",
       "      <td>10.0</td>\n",
       "      <td>7.0</td>\n",
       "      <td>0.0</td>\n",
       "      <td>9.0</td>\n",
       "      <td>2.0</td>\n",
       "      <td>6</td>\n",
       "      <td>2</td>\n",
       "      <td>3</td>\n",
       "    </tr>\n",
       "    <tr>\n",
       "      <th>387530</th>\n",
       "      <td>387530</td>\n",
       "      <td>551191</td>\n",
       "      <td>1</td>\n",
       "      <td>1.0</td>\n",
       "      <td>11.0</td>\n",
       "      <td>NaN</td>\n",
       "      <td>NaN</td>\n",
       "      <td>NaN</td>\n",
       "      <td>NaN</td>\n",
       "      <td>11.0</td>\n",
       "      <td>...</td>\n",
       "      <td>1.0</td>\n",
       "      <td>9.0</td>\n",
       "      <td>6.0</td>\n",
       "      <td>3.0</td>\n",
       "      <td>6.0</td>\n",
       "      <td>9.0</td>\n",
       "      <td>7.0</td>\n",
       "      <td>3</td>\n",
       "      <td>2</td>\n",
       "      <td>3</td>\n",
       "    </tr>\n",
       "    <tr>\n",
       "      <th>534777</th>\n",
       "      <td>534777</td>\n",
       "      <td>747918</td>\n",
       "      <td>-1</td>\n",
       "      <td>9.0</td>\n",
       "      <td>19.0</td>\n",
       "      <td>6.0</td>\n",
       "      <td>NaN</td>\n",
       "      <td>NaN</td>\n",
       "      <td>NaN</td>\n",
       "      <td>24.0</td>\n",
       "      <td>...</td>\n",
       "      <td>3.0</td>\n",
       "      <td>3.0</td>\n",
       "      <td>6.0</td>\n",
       "      <td>5.0</td>\n",
       "      <td>1.0</td>\n",
       "      <td>9.0</td>\n",
       "      <td>7.0</td>\n",
       "      <td>4</td>\n",
       "      <td>2</td>\n",
       "      <td>3</td>\n",
       "    </tr>\n",
       "    <tr>\n",
       "      <th>881264</th>\n",
       "      <td>881264</td>\n",
       "      <td>569540</td>\n",
       "      <td>-1</td>\n",
       "      <td>2.0</td>\n",
       "      <td>0.0</td>\n",
       "      <td>NaN</td>\n",
       "      <td>NaN</td>\n",
       "      <td>NaN</td>\n",
       "      <td>NaN</td>\n",
       "      <td>NaN</td>\n",
       "      <td>...</td>\n",
       "      <td>1.0</td>\n",
       "      <td>10.0</td>\n",
       "      <td>12.0</td>\n",
       "      <td>9.0</td>\n",
       "      <td>4.0</td>\n",
       "      <td>9.0</td>\n",
       "      <td>4.0</td>\n",
       "      <td>3</td>\n",
       "      <td>1</td>\n",
       "      <td>3</td>\n",
       "    </tr>\n",
       "    <tr>\n",
       "      <th>572443</th>\n",
       "      <td>572443</td>\n",
       "      <td>968754</td>\n",
       "      <td>-1</td>\n",
       "      <td>8.0</td>\n",
       "      <td>21.0</td>\n",
       "      <td>17.0</td>\n",
       "      <td>NaN</td>\n",
       "      <td>NaN</td>\n",
       "      <td>NaN</td>\n",
       "      <td>21.0</td>\n",
       "      <td>...</td>\n",
       "      <td>NaN</td>\n",
       "      <td>2.0</td>\n",
       "      <td>3.0</td>\n",
       "      <td>5.0</td>\n",
       "      <td>1.0</td>\n",
       "      <td>9.0</td>\n",
       "      <td>0.0</td>\n",
       "      <td>2</td>\n",
       "      <td>1</td>\n",
       "      <td>1</td>\n",
       "    </tr>\n",
       "  </tbody>\n",
       "</table>\n",
       "<p>5 rows × 367 columns</p>\n",
       "</div>"
      ],
      "text/plain": [
       "        Unnamed: 0     LNR  AGER_TYP  AKT_DAT_KL  ALTER_HH  ALTER_KIND1  \\\n",
       "126949      126949  829778        -1         6.0      16.0          NaN   \n",
       "387530      387530  551191         1         1.0      11.0          NaN   \n",
       "534777      534777  747918        -1         9.0      19.0          6.0   \n",
       "881264      881264  569540        -1         2.0       0.0          NaN   \n",
       "572443      572443  968754        -1         8.0      21.0         17.0   \n",
       "\n",
       "        ALTER_KIND2  ALTER_KIND3  ALTER_KIND4  ALTERSKATEGORIE_FEIN  \\\n",
       "126949          NaN          NaN          NaN                  16.0   \n",
       "387530          NaN          NaN          NaN                  11.0   \n",
       "534777          NaN          NaN          NaN                  24.0   \n",
       "881264          NaN          NaN          NaN                   NaN   \n",
       "572443          NaN          NaN          NaN                  21.0   \n",
       "\n",
       "               ...           VHN  VK_DHT4A  VK_DISTANZ  VK_ZG11  \\\n",
       "126949         ...           4.0      10.0        10.0      7.0   \n",
       "387530         ...           1.0       9.0         6.0      3.0   \n",
       "534777         ...           3.0       3.0         6.0      5.0   \n",
       "881264         ...           1.0      10.0        12.0      9.0   \n",
       "572443         ...           NaN       2.0         3.0      5.0   \n",
       "\n",
       "        W_KEIT_KIND_HH  WOHNDAUER_2008  WOHNLAGE  ZABEOTYP ANREDE_KZ  \\\n",
       "126949             0.0             9.0       2.0         6         2   \n",
       "387530             6.0             9.0       7.0         3         2   \n",
       "534777             1.0             9.0       7.0         4         2   \n",
       "881264             4.0             9.0       4.0         3         1   \n",
       "572443             1.0             9.0       0.0         2         1   \n",
       "\n",
       "       ALTERSKATEGORIE_GROB  \n",
       "126949                    3  \n",
       "387530                    3  \n",
       "534777                    3  \n",
       "881264                    3  \n",
       "572443                    1  \n",
       "\n",
       "[5 rows x 367 columns]"
      ]
     },
     "execution_count": 4,
     "metadata": {},
     "output_type": "execute_result"
    }
   ],
   "source": [
    "# first overview of the dataframe\n",
    "azdias_eng.head()"
   ]
  },
  {
   "cell_type": "code",
   "execution_count": 5,
   "metadata": {},
   "outputs": [],
   "source": [
    "# drop 'Unnamed: 0' because it is just a duplicate of the index\n",
    "azdias_eng = azdias_eng.iloc[:,1:]"
   ]
  },
  {
   "cell_type": "code",
   "execution_count": 6,
   "metadata": {},
   "outputs": [
    {
     "data": {
      "text/plain": [
       "(445610, 366)"
      ]
     },
     "execution_count": 6,
     "metadata": {},
     "output_type": "execute_result"
    }
   ],
   "source": [
    "# get dimensions of the dataframe\n",
    "azdias_eng.shape"
   ]
  },
  {
   "cell_type": "markdown",
   "metadata": {},
   "source": [
    "The data has 366 columns. These have to be explored and attributed. For that I created a dataframe with metadata which pandas provides for each column . These metadata are the column name, the number of unique values, the dtype, a list of all unique values and the number of missing values of each column."
   ]
  },
  {
   "cell_type": "code",
   "execution_count": 7,
   "metadata": {},
   "outputs": [],
   "source": [
    "# create a dataframe with metadata about every column \n",
    "\n",
    "# create empty dataframe\n",
    "column_metadata = pd.DataFrame(columns=['col_name', 'val_number', 'dtype', 'nan_number', 'category:count'])\n",
    "\n",
    "# create array of columns\n",
    "columns_list = azdias_eng.columns\n",
    "\n",
    "# fill dataframe with column attributes\n",
    "for i in range(len(columns_list)):\n",
    "    val_count = azdias_eng.iloc[:,i].value_counts(dropna=False)\n",
    "    column_metadata = column_metadata.append({'col_name': columns_list[i], 'val_number': len(val_count),\n",
    "                   'dtype': azdias_eng.iloc[:,i].dtype, 'nan_number':azdias_eng.iloc[:,i].isnull().sum(),\n",
    "                    'category:count': val_count.index.tolist()}, ignore_index=True)"
   ]
  },
  {
   "cell_type": "code",
   "execution_count": 8,
   "metadata": {},
   "outputs": [
    {
     "data": {
      "text/html": [
       "<div>\n",
       "<style scoped>\n",
       "    .dataframe tbody tr th:only-of-type {\n",
       "        vertical-align: middle;\n",
       "    }\n",
       "\n",
       "    .dataframe tbody tr th {\n",
       "        vertical-align: top;\n",
       "    }\n",
       "\n",
       "    .dataframe thead th {\n",
       "        text-align: right;\n",
       "    }\n",
       "</style>\n",
       "<table border=\"1\" class=\"dataframe\">\n",
       "  <thead>\n",
       "    <tr style=\"text-align: right;\">\n",
       "      <th></th>\n",
       "      <th>col_name</th>\n",
       "      <th>val_number</th>\n",
       "      <th>dtype</th>\n",
       "      <th>nan_number</th>\n",
       "      <th>category:count</th>\n",
       "    </tr>\n",
       "  </thead>\n",
       "  <tbody>\n",
       "    <tr>\n",
       "      <th>0</th>\n",
       "      <td>LNR</td>\n",
       "      <td>445610</td>\n",
       "      <td>int64</td>\n",
       "      <td>0</td>\n",
       "      <td>[1050623, 462411, 302649, 298555, 308796, 3108...</td>\n",
       "    </tr>\n",
       "    <tr>\n",
       "      <th>1</th>\n",
       "      <td>AGER_TYP</td>\n",
       "      <td>5</td>\n",
       "      <td>int64</td>\n",
       "      <td>0</td>\n",
       "      <td>[-1, 2, 1, 3, 0]</td>\n",
       "    </tr>\n",
       "    <tr>\n",
       "      <th>2</th>\n",
       "      <td>AKT_DAT_KL</td>\n",
       "      <td>10</td>\n",
       "      <td>float64</td>\n",
       "      <td>37071</td>\n",
       "      <td>[1.0, 9.0, nan, 5.0, 6.0, 3.0, 4.0, 7.0, 8.0, ...</td>\n",
       "    </tr>\n",
       "  </tbody>\n",
       "</table>\n",
       "</div>"
      ],
      "text/plain": [
       "     col_name val_number    dtype nan_number  \\\n",
       "0         LNR     445610    int64          0   \n",
       "1    AGER_TYP          5    int64          0   \n",
       "2  AKT_DAT_KL         10  float64      37071   \n",
       "\n",
       "                                      category:count  \n",
       "0  [1050623, 462411, 302649, 298555, 308796, 3108...  \n",
       "1                                   [-1, 2, 1, 3, 0]  \n",
       "2  [1.0, 9.0, nan, 5.0, 6.0, 3.0, 4.0, 7.0, 8.0, ...  "
      ]
     },
     "execution_count": 8,
     "metadata": {},
     "output_type": "execute_result"
    }
   ],
   "source": [
    "# overview of column_metadata\n",
    "column_metadata.head(3)"
   ]
  },
  {
   "cell_type": "markdown",
   "metadata": {},
   "source": [
    "column_metadata and the two excel files 'DIAS Information Levels - Attributes 2017.xlsx' and 'DIAS Attributes - Values 2017.xlsx' which describe the columns were the basis to label each column for the data type and NaNs which are encoded in each column and not labeled as NaNs. This labeling was done by hand in an excel file named 'column_mapper2.xlsx' ."
   ]
  },
  {
   "cell_type": "code",
   "execution_count": 9,
   "metadata": {},
   "outputs": [],
   "source": [
    "# load excel file which specifies the columns into dataframe\n",
    "column_metadata2 = pd.read_excel('column_mapper2.xlsx')"
   ]
  },
  {
   "cell_type": "code",
   "execution_count": 10,
   "metadata": {},
   "outputs": [
    {
     "data": {
      "text/html": [
       "<div>\n",
       "<style scoped>\n",
       "    .dataframe tbody tr th:only-of-type {\n",
       "        vertical-align: middle;\n",
       "    }\n",
       "\n",
       "    .dataframe tbody tr th {\n",
       "        vertical-align: top;\n",
       "    }\n",
       "\n",
       "    .dataframe thead th {\n",
       "        text-align: right;\n",
       "    }\n",
       "</style>\n",
       "<table border=\"1\" class=\"dataframe\">\n",
       "  <thead>\n",
       "    <tr style=\"text-align: right;\">\n",
       "      <th></th>\n",
       "      <th>format</th>\n",
       "      <th>to_nan</th>\n",
       "      <th>Unnamed: 2</th>\n",
       "      <th>col_name</th>\n",
       "      <th>val_number</th>\n",
       "      <th>dtype</th>\n",
       "      <th>nan_number</th>\n",
       "      <th>category:count</th>\n",
       "    </tr>\n",
       "  </thead>\n",
       "  <tbody>\n",
       "    <tr>\n",
       "      <th>0</th>\n",
       "      <td>num</td>\n",
       "      <td>no</td>\n",
       "      <td>0</td>\n",
       "      <td>LNR</td>\n",
       "      <td>891221</td>\n",
       "      <td>int64</td>\n",
       "      <td>0</td>\n",
       "      <td>(192418, 1)(611455, 1)(982154, 1)(976009, 1)(9...</td>\n",
       "    </tr>\n",
       "    <tr>\n",
       "      <th>1</th>\n",
       "      <td>cat</td>\n",
       "      <td>minus1</td>\n",
       "      <td>1</td>\n",
       "      <td>AGER_TYP</td>\n",
       "      <td>5</td>\n",
       "      <td>int64</td>\n",
       "      <td>0</td>\n",
       "      <td>(-1, 677503)(2, 98472)(1, 79802)(3, 27104)(0, ...</td>\n",
       "    </tr>\n",
       "    <tr>\n",
       "      <th>2</th>\n",
       "      <td>inter</td>\n",
       "      <td>minus1</td>\n",
       "      <td>2</td>\n",
       "      <td>AKT_DAT_KL</td>\n",
       "      <td>10</td>\n",
       "      <td>float64</td>\n",
       "      <td>73499</td>\n",
       "      <td>(1.0, 390258)(9.0, 270663)(nan, 73499)(5.0, 29...</td>\n",
       "    </tr>\n",
       "  </tbody>\n",
       "</table>\n",
       "</div>"
      ],
      "text/plain": [
       "  format  to_nan  Unnamed: 2    col_name  val_number    dtype  nan_number  \\\n",
       "0    num      no           0         LNR      891221    int64           0   \n",
       "1    cat  minus1           1    AGER_TYP           5    int64           0   \n",
       "2  inter  minus1           2  AKT_DAT_KL          10  float64       73499   \n",
       "\n",
       "                                      category:count  \n",
       "0  (192418, 1)(611455, 1)(982154, 1)(976009, 1)(9...  \n",
       "1  (-1, 677503)(2, 98472)(1, 79802)(3, 27104)(0, ...  \n",
       "2  (1.0, 390258)(9.0, 270663)(nan, 73499)(5.0, 29...  "
      ]
     },
     "execution_count": 10,
     "metadata": {},
     "output_type": "execute_result"
    }
   ],
   "source": [
    "# overview of column_metadata\n",
    "column_metadata2.head(3)"
   ]
  },
  {
   "cell_type": "code",
   "execution_count": 11,
   "metadata": {},
   "outputs": [],
   "source": [
    "# drop 'Unnamed: 2' because it is just a copy of the index\n",
    "column_metadata2.drop('Unnamed: 2', axis=1, inplace=True)\n",
    "\n",
    "# take the list of unique values for each column and replace the text value (datastructure was lost in excel conversion)\n",
    "column_metadata2['category:count']=column_metadata['category:count']"
   ]
  },
  {
   "cell_type": "code",
   "execution_count": 12,
   "metadata": {},
   "outputs": [
    {
     "data": {
      "text/html": [
       "<div>\n",
       "<style scoped>\n",
       "    .dataframe tbody tr th:only-of-type {\n",
       "        vertical-align: middle;\n",
       "    }\n",
       "\n",
       "    .dataframe tbody tr th {\n",
       "        vertical-align: top;\n",
       "    }\n",
       "\n",
       "    .dataframe thead th {\n",
       "        text-align: right;\n",
       "    }\n",
       "</style>\n",
       "<table border=\"1\" class=\"dataframe\">\n",
       "  <thead>\n",
       "    <tr style=\"text-align: right;\">\n",
       "      <th></th>\n",
       "      <th>format</th>\n",
       "      <th>to_nan</th>\n",
       "      <th>col_name</th>\n",
       "      <th>val_number</th>\n",
       "      <th>dtype</th>\n",
       "      <th>nan_number</th>\n",
       "      <th>category:count</th>\n",
       "    </tr>\n",
       "  </thead>\n",
       "  <tbody>\n",
       "    <tr>\n",
       "      <th>0</th>\n",
       "      <td>num</td>\n",
       "      <td>no</td>\n",
       "      <td>LNR</td>\n",
       "      <td>891221</td>\n",
       "      <td>int64</td>\n",
       "      <td>0</td>\n",
       "      <td>[1050623, 462411, 302649, 298555, 308796, 3108...</td>\n",
       "    </tr>\n",
       "    <tr>\n",
       "      <th>1</th>\n",
       "      <td>cat</td>\n",
       "      <td>minus1</td>\n",
       "      <td>AGER_TYP</td>\n",
       "      <td>5</td>\n",
       "      <td>int64</td>\n",
       "      <td>0</td>\n",
       "      <td>[-1, 2, 1, 3, 0]</td>\n",
       "    </tr>\n",
       "    <tr>\n",
       "      <th>2</th>\n",
       "      <td>inter</td>\n",
       "      <td>minus1</td>\n",
       "      <td>AKT_DAT_KL</td>\n",
       "      <td>10</td>\n",
       "      <td>float64</td>\n",
       "      <td>73499</td>\n",
       "      <td>[1.0, 9.0, nan, 5.0, 6.0, 3.0, 4.0, 7.0, 8.0, ...</td>\n",
       "    </tr>\n",
       "  </tbody>\n",
       "</table>\n",
       "</div>"
      ],
      "text/plain": [
       "  format  to_nan    col_name  val_number    dtype  nan_number  \\\n",
       "0    num      no         LNR      891221    int64           0   \n",
       "1    cat  minus1    AGER_TYP           5    int64           0   \n",
       "2  inter  minus1  AKT_DAT_KL          10  float64       73499   \n",
       "\n",
       "                                      category:count  \n",
       "0  [1050623, 462411, 302649, 298555, 308796, 3108...  \n",
       "1                                   [-1, 2, 1, 3, 0]  \n",
       "2  [1.0, 9.0, nan, 5.0, 6.0, 3.0, 4.0, 7.0, 8.0, ...  "
      ]
     },
     "execution_count": 12,
     "metadata": {},
     "output_type": "execute_result"
    }
   ],
   "source": [
    "# overview of column_metadata\n",
    "column_metadata2.head(3)"
   ]
  },
  {
   "cell_type": "code",
   "execution_count": 13,
   "metadata": {},
   "outputs": [
    {
     "data": {
      "text/plain": [
       "ord      294\n",
       "cat       32\n",
       "inter     16\n",
       "num       14\n",
       "bin       10\n",
       "Name: format, dtype: int64"
      ]
     },
     "execution_count": 13,
     "metadata": {},
     "output_type": "execute_result"
    }
   ],
   "source": [
    "# Show all the different data types for the columns according to column_metadat2\n",
    "# ord = ordinal, cat=categorical, inter=interval, num=numeric, bin=binary\n",
    "column_metadata2['format'].value_counts()"
   ]
  },
  {
   "cell_type": "code",
   "execution_count": 14,
   "metadata": {},
   "outputs": [
    {
     "data": {
      "text/html": [
       "<div>\n",
       "<style scoped>\n",
       "    .dataframe tbody tr th:only-of-type {\n",
       "        vertical-align: middle;\n",
       "    }\n",
       "\n",
       "    .dataframe tbody tr th {\n",
       "        vertical-align: top;\n",
       "    }\n",
       "\n",
       "    .dataframe thead th {\n",
       "        text-align: right;\n",
       "    }\n",
       "</style>\n",
       "<table border=\"1\" class=\"dataframe\">\n",
       "  <thead>\n",
       "    <tr style=\"text-align: right;\">\n",
       "      <th></th>\n",
       "      <th>format</th>\n",
       "      <th>to_nan</th>\n",
       "      <th>col_name</th>\n",
       "      <th>val_number</th>\n",
       "      <th>dtype</th>\n",
       "      <th>nan_number</th>\n",
       "      <th>category:count</th>\n",
       "    </tr>\n",
       "  </thead>\n",
       "  <tbody>\n",
       "    <tr>\n",
       "      <th>17</th>\n",
       "      <td>cat</td>\n",
       "      <td>no</td>\n",
       "      <td>CAMEO_DEU_2015</td>\n",
       "      <td>46</td>\n",
       "      <td>object</td>\n",
       "      <td>98979</td>\n",
       "      <td>[nan, 6B, 8A, 4C, 2D, 3C, 7A, 3D, 4A, 8B, 8C, ...</td>\n",
       "    </tr>\n",
       "    <tr>\n",
       "      <th>18</th>\n",
       "      <td>cat</td>\n",
       "      <td>minus1</td>\n",
       "      <td>CAMEO_DEUG_2015</td>\n",
       "      <td>11</td>\n",
       "      <td>object</td>\n",
       "      <td>98979</td>\n",
       "      <td>[8, 9, 6, 4, nan, 3, 2, 7, 5, 1, X]</td>\n",
       "    </tr>\n",
       "    <tr>\n",
       "      <th>19</th>\n",
       "      <td>cat</td>\n",
       "      <td>minus1</td>\n",
       "      <td>CAMEO_INTL_2015</td>\n",
       "      <td>23</td>\n",
       "      <td>object</td>\n",
       "      <td>98979</td>\n",
       "      <td>[51, nan, 41, 24, 14, 43, 54, 25, 22, 23, 45, ...</td>\n",
       "    </tr>\n",
       "    <tr>\n",
       "      <th>61</th>\n",
       "      <td>cat</td>\n",
       "      <td>no</td>\n",
       "      <td>D19_LETZTER_KAUF_BRANCHE</td>\n",
       "      <td>36</td>\n",
       "      <td>object</td>\n",
       "      <td>257113</td>\n",
       "      <td>[nan, D19_UNBEKANNT, D19_VERSICHERUNGEN, D19_S...</td>\n",
       "    </tr>\n",
       "    <tr>\n",
       "      <th>97</th>\n",
       "      <td>inter</td>\n",
       "      <td>no</td>\n",
       "      <td>EINGEFUEGT_AM</td>\n",
       "      <td>5163</td>\n",
       "      <td>object</td>\n",
       "      <td>93148</td>\n",
       "      <td>[1992-02-10 00:00:00, 1992-02-12 00:00:00, nan...</td>\n",
       "    </tr>\n",
       "    <tr>\n",
       "      <th>317</th>\n",
       "      <td>bin</td>\n",
       "      <td>minus1</td>\n",
       "      <td>OST_WEST_KZ</td>\n",
       "      <td>3</td>\n",
       "      <td>object</td>\n",
       "      <td>93148</td>\n",
       "      <td>[W, O, nan]</td>\n",
       "    </tr>\n",
       "  </tbody>\n",
       "</table>\n",
       "</div>"
      ],
      "text/plain": [
       "    format  to_nan                  col_name  val_number   dtype  nan_number  \\\n",
       "17     cat      no            CAMEO_DEU_2015          46  object       98979   \n",
       "18     cat  minus1           CAMEO_DEUG_2015          11  object       98979   \n",
       "19     cat  minus1           CAMEO_INTL_2015          23  object       98979   \n",
       "61     cat      no  D19_LETZTER_KAUF_BRANCHE          36  object      257113   \n",
       "97   inter      no             EINGEFUEGT_AM        5163  object       93148   \n",
       "317    bin  minus1               OST_WEST_KZ           3  object       93148   \n",
       "\n",
       "                                        category:count  \n",
       "17   [nan, 6B, 8A, 4C, 2D, 3C, 7A, 3D, 4A, 8B, 8C, ...  \n",
       "18                 [8, 9, 6, 4, nan, 3, 2, 7, 5, 1, X]  \n",
       "19   [51, nan, 41, 24, 14, 43, 54, 25, 22, 23, 45, ...  \n",
       "61   [nan, D19_UNBEKANNT, D19_VERSICHERUNGEN, D19_S...  \n",
       "97   [1992-02-10 00:00:00, 1992-02-12 00:00:00, nan...  \n",
       "317                                        [W, O, nan]  "
      ]
     },
     "execution_count": 14,
     "metadata": {},
     "output_type": "execute_result"
    }
   ],
   "source": [
    "# the column dtype shows the pandas dtype for each column, 6 columns have object as dtype and need special attention\n",
    "column_metadata2[column_metadata2['dtype']=='object']"
   ]
  },
  {
   "cell_type": "code",
   "execution_count": 15,
   "metadata": {},
   "outputs": [],
   "source": [
    "# three columns contain 'X' or 'XX', values which have the meaning explained in the excel files for the attributes\n",
    "# these are replaced with NaNs and the columns are converted to float if possible\n",
    "azdias_eng['CAMEO_DEU_2015'] = azdias_eng['CAMEO_DEU_2015'].replace('XX', np.nan)\n",
    "azdias_eng['CAMEO_DEUG_2015'] = azdias_eng['CAMEO_DEUG_2015'].replace('X', np.nan).astype(float)\n",
    "azdias_eng['CAMEO_INTL_2015'] = azdias_eng['CAMEO_INTL_2015'].replace('XX', np.nan).astype(float)\n",
    "\n",
    "# D19_UNBEKANNT ('unbekannt' german for 'unknown') is not decoded as unknow in the excel files for the attributes but\n",
    "# will be converted here\n",
    "azdias_eng['D19_LETZTER_KAUF_BRANCHE'] = azdias_eng['D19_LETZTER_KAUF_BRANCHE'].replace('D19_UNBEKANNT', np.nan)\n",
    "\n",
    "# this is a date where the first four letters represent the year and the column will be replaced with this as float\n",
    "azdias_eng['EINGEFUEGT_AM'] = azdias_eng['EINGEFUEGT_AM'].str.slice(0,4).astype(float)\n",
    "\n",
    "# this binary is encoded as numbers\n",
    "azdias_eng['OST_WEST_KZ'] = azdias_eng['OST_WEST_KZ'].replace(['O', 'W'], [0,1])\n",
    "\n",
    "#after this engineering there are still two column with dtype='object' but they are categorical and can be converted\n",
    "#during one-hot-encoding('D19_LETZTER_KAUF_BRANCHE', 'CAMEO_DEU_2015')"
   ]
  },
  {
   "cell_type": "code",
   "execution_count": 16,
   "metadata": {},
   "outputs": [
    {
     "data": {
      "text/plain": [
       "minus1         142\n",
       "no             129\n",
       "minus1_nine     75\n",
       "minus1_zero     11\n",
       "zero             9\n",
       "Name: to_nan, dtype: int64"
      ]
     },
     "execution_count": 16,
     "metadata": {},
     "output_type": "execute_result"
    }
   ],
   "source": [
    "# Show all the different values which are encoded as unknown and will be converted to NaNs for the columns according to\n",
    "# column_metadat2. no=no conversion, minus1=-1, zero=0, minus1_nine=-1,9 , minus1_zero=-1,0\n",
    "column_metadata2['to_nan'].value_counts()"
   ]
  },
  {
   "cell_type": "code",
   "execution_count": 17,
   "metadata": {},
   "outputs": [],
   "source": [
    "# convert all unknown encoded data to NaNs\n",
    "\n",
    "# loop over all columns\n",
    "for i in range(len(column_metadata2)):\n",
    "    to_nan = column_metadata2.iloc[i]['to_nan']\n",
    "    category_count = column_metadata2.iloc[i]['category:count']\n",
    "    col_name = column_metadata2.iloc[i]['col_name']\n",
    "        \n",
    "    # check for nan-conversin-label and if this value exists in this column,\n",
    "    if (to_nan == 'minus1'):\n",
    "        azdias_eng[col_name] = azdias_eng[col_name].replace([-1, -1.0], [np.nan, np.nan])\n",
    "        \n",
    "    elif (to_nan == 'zero'):\n",
    "        azdias_eng[col_name] = azdias_eng[col_name].replace([-1, -1.0], [np.nan, np.nan])\n",
    "    \n",
    "    elif (to_nan == 'minus1_nine'):\n",
    "        azdias_eng[col_name] = azdias_eng[col_name].replace([-1, 9, -1.0, 9.0], [np.nan, np.nan, np.nan, np.nan])\n",
    "    \n",
    "    elif (to_nan == 'minus1_nine'):\n",
    "        azdias_eng[col_name] = azdias_eng[col_name].replace([-1, 9, -1.0, 9.0], [np.nan, np.nan, np.nan, np.nan])"
   ]
  },
  {
   "cell_type": "code",
   "execution_count": 18,
   "metadata": {},
   "outputs": [
    {
     "data": {
      "text/plain": [
       "ALTER_KIND4                    99.866026\n",
       "ALTER_KIND3                    99.302978\n",
       "ALTER_KIND2                    96.709903\n",
       "ALTER_KIND1                    90.922107\n",
       "AGER_TYP                       75.999641\n",
       "EXTSEL992                      73.438433\n",
       "KK_KUNDENTYP                   65.715536\n",
       "D19_LETZTER_KAUF_BRANCHE       50.874756\n",
       "ALTERSKATEGORIE_FEIN           29.469940\n",
       "D19_KONSUMTYP                  28.913624\n",
       "D19_BANKEN_ONLINE_QUOTE_12     28.913624\n",
       "D19_VERSAND_ONLINE_QUOTE_12    28.913624\n",
       "D19_TELKO_ONLINE_QUOTE_12      28.913624\n",
       "D19_SOZIALES                   28.913624\n",
       "D19_GESAMT_ONLINE_QUOTE_12     28.913624\n",
       "D19_LOTTO                      28.913624\n",
       "D19_VERSI_ONLINE_QUOTE_12      28.913624\n",
       "KBA05_AUTOQUOT                 16.712372\n",
       "KBA05_MOD8                     16.711923\n",
       "KBA05_SEG1                     16.711923\n",
       "KBA05_MOTOR                    16.711923\n",
       "KBA05_MOD1                     16.711923\n",
       "KBA05_MOD4                     16.711923\n",
       "KBA05_MOD3                     16.711923\n",
       "KBA05_MOD2                     16.711923\n",
       "dtype: float64"
      ]
     },
     "execution_count": 18,
     "metadata": {},
     "output_type": "execute_result"
    }
   ],
   "source": [
    "# calculate the percentage of missing values per column\n",
    "missing_per_column = (azdias_eng.isnull().sum().sort_values(ascending=False)/azdias_eng.shape[0]*100)\n",
    "missing_per_column.head(25)"
   ]
  },
  {
   "cell_type": "code",
   "execution_count": 19,
   "metadata": {},
   "outputs": [
    {
     "data": {
      "image/png": "[encoded data removed]",
      "text/plain": [
       "<Figure size 720x720 with 1 Axes>"
      ]
     },
     "metadata": {
      "needs_background": "light"
     },
     "output_type": "display_data"
    }
   ],
   "source": [
    "# plot horizontal barplot of columns with the top 50 highest percentage of missing values\n",
    "fig, ax = plt.subplots()\n",
    "fig.set_size_inches(10, 10)\n",
    "\n",
    "missing_per_column.head(50).plot.barh()\n",
    "\n",
    "plt.title('Missing values')\n",
    "plt.xlabel(\"Percentage per column\")\n",
    "plt.ylabel('Column name')\n",
    "plt.show()"
   ]
  },
  {
   "cell_type": "markdown",
   "metadata": {},
   "source": [
    "Here the decision was made to drop all columns with more than 20 percent of missing data."
   ]
  },
  {
   "cell_type": "code",
   "execution_count": 20,
   "metadata": {},
   "outputs": [
    {
     "name": "stdout",
     "output_type": "stream",
     "text": [
      "17 columns are dropped\n"
     ]
    },
    {
     "data": {
      "text/plain": [
       "['ALTER_KIND4',\n",
       " 'ALTER_KIND3',\n",
       " 'ALTER_KIND2',\n",
       " 'ALTER_KIND1',\n",
       " 'AGER_TYP',\n",
       " 'EXTSEL992',\n",
       " 'KK_KUNDENTYP',\n",
       " 'D19_LETZTER_KAUF_BRANCHE',\n",
       " 'ALTERSKATEGORIE_FEIN',\n",
       " 'D19_KONSUMTYP',\n",
       " 'D19_BANKEN_ONLINE_QUOTE_12',\n",
       " 'D19_VERSAND_ONLINE_QUOTE_12',\n",
       " 'D19_TELKO_ONLINE_QUOTE_12',\n",
       " 'D19_SOZIALES',\n",
       " 'D19_GESAMT_ONLINE_QUOTE_12',\n",
       " 'D19_LOTTO',\n",
       " 'D19_VERSI_ONLINE_QUOTE_12']"
      ]
     },
     "execution_count": 20,
     "metadata": {},
     "output_type": "execute_result"
    }
   ],
   "source": [
    "# make list of all columns that have more than 20 % of missing values and show length\n",
    "drop_list_20percent = missing_per_column[missing_per_column>20].index.tolist()\n",
    "print('{} columns are dropped'.format(len(drop_list_20percent)))\n",
    "drop_list_20percent"
   ]
  },
  {
   "cell_type": "code",
   "execution_count": 21,
   "metadata": {},
   "outputs": [
    {
     "data": {
      "text/plain": [
       "(445610, 349)"
      ]
     },
     "execution_count": 21,
     "metadata": {},
     "output_type": "execute_result"
    }
   ],
   "source": [
    "# drop the columns and show new shape\n",
    "azdias_eng.drop(drop_list_20percent, axis=1, inplace=True)\n",
    "azdias_eng.shape"
   ]
  },
  {
   "cell_type": "code",
   "execution_count": 22,
   "metadata": {},
   "outputs": [],
   "source": [
    "# create series of count of distinct percentages of missing values per row\n",
    "missing_in_rows = (azdias_eng.isnull().sum(axis=1)/azdias_eng.shape[1]*100).round().astype(int).value_counts().sort_index()"
   ]
  },
  {
   "cell_type": "code",
   "execution_count": 23,
   "metadata": {},
   "outputs": [
    {
     "data": {
      "text/plain": [
       "'Number of rows with no missing values: 325996'"
      ]
     },
     "execution_count": 23,
     "metadata": {},
     "output_type": "execute_result"
    }
   ],
   "source": [
    "'Number of rows with no missing values: {}'.format(missing_in_rows[0])"
   ]
  },
  {
   "cell_type": "code",
   "execution_count": 24,
   "metadata": {},
   "outputs": [
    {
     "data": {
      "image/png": "[encoded data removed]",
      "text/plain": [
       "<Figure size 720x720 with 1 Axes>"
      ]
     },
     "metadata": {
      "needs_background": "light"
     },
     "output_type": "display_data"
    }
   ],
   "source": [
    "# plot barplot for cumulative number of rows for distinctive percentages of missing values per row\n",
    "fig, ax = plt.subplots()\n",
    "fig.set_size_inches(10, 10)\n",
    "\n",
    "missing_in_rows[1:].cumsum().plot.bar()\n",
    "\n",
    "plt.title('Cumulative row count for distinctive percentages of missing values per row')\n",
    "plt.xlabel(\"Percentage per row\")\n",
    "plt.ylabel('Cumulative sum of rows')\n",
    "plt.show()"
   ]
  },
  {
   "cell_type": "markdown",
   "metadata": {},
   "source": [
    "There are arount 320,000 rows with no missing values. With the graph above you can evaluate how many rows you include additionally to the 320,000 if you allow a certain percentage of missing values. For example if you include rows with up 18% of missing values you will add around 50,000 rows, if you allow 63 % you will add around 70,000 rows. If you decide to allow up to 9% percent of missing values per row then 40,000 rows are added like explored below.\n",
    "The two datasets,one with the excluded and one with the included rows, are compared at random, to check if the distribution of values has changed."
   ]
  },
  {
   "cell_type": "code",
   "execution_count": 25,
   "metadata": {},
   "outputs": [],
   "source": [
    "# build two dataframes with rows which are included and with rows which are excluded\n",
    "azdias_eng_10percent_row = azdias_eng[(azdias_eng.isnull().sum(axis=1)/azdias_eng.shape[1]*100)<10]\n",
    "azdias_eng_10percent_row_excluded_rows = azdias_eng[(azdias_eng.isnull().sum(axis=1)/azdias_eng.shape[1]*100)>10]"
   ]
  },
  {
   "cell_type": "code",
   "execution_count": 26,
   "metadata": {},
   "outputs": [
    {
     "data": {
      "text/plain": [
       "['KBA13_SEG_MINIWAGEN',\n",
       " 'KBA05_HERST5',\n",
       " 'CJT_KATALOGNUTZER',\n",
       " 'SEMIO_KULT',\n",
       " 'KBA05_HERST3']"
      ]
     },
     "execution_count": 26,
     "metadata": {},
     "output_type": "execute_result"
    }
   ],
   "source": [
    "#create list of randomly selected columns to check on if the distributions in the datasets are the same\n",
    "np.random.seed(10)\n",
    "check_columns = list(np.random.choice(azdias_eng_10percent_row.columns, 5))\n",
    "check_columns"
   ]
  },
  {
   "cell_type": "code",
   "execution_count": 27,
   "metadata": {},
   "outputs": [
    {
     "data": {
      "image/png": "[encoded data removed]",
      "text/plain": [
       "<Figure size 432x288 with 1 Axes>"
      ]
     },
     "metadata": {
      "needs_background": "light"
     },
     "output_type": "display_data"
    },
    {
     "data": {
      "image/png": "[encoded data removed]",
      "text/plain": [
       "<Figure size 432x288 with 1 Axes>"
      ]
     },
     "metadata": {
      "needs_background": "light"
     },
     "output_type": "display_data"
    },
    {
     "data": {
      "image/png": "[encoded data removed]",
      "text/plain": [
       "<Figure size 432x288 with 1 Axes>"
      ]
     },
     "metadata": {
      "needs_background": "light"
     },
     "output_type": "display_data"
    },
    {
     "data": {
      "image/png": "[encoded data removed]",
      "text/plain": [
       "<Figure size 432x288 with 1 Axes>"
      ]
     },
     "metadata": {
      "needs_background": "light"
     },
     "output_type": "display_data"
    },
    {
     "data": {
      "image/png": "[encoded data removed]",
      "text/plain": [
       "<Figure size 432x288 with 1 Axes>"
      ]
     },
     "metadata": {
      "needs_background": "light"
     },
     "output_type": "display_data"
    },
    {
     "data": {
      "image/png": "[encoded data removed]",
      "text/plain": [
       "<Figure size 432x288 with 1 Axes>"
      ]
     },
     "metadata": {
      "needs_background": "light"
     },
     "output_type": "display_data"
    },
    {
     "data": {
      "image/png": "[encoded data removed]",
      "text/plain": [
       "<Figure size 432x288 with 1 Axes>"
      ]
     },
     "metadata": {
      "needs_background": "light"
     },
     "output_type": "display_data"
    },
    {
     "data": {
      "image/png": "[encoded data removed]",
      "text/plain": [
       "<Figure size 432x288 with 1 Axes>"
      ]
     },
     "metadata": {
      "needs_background": "light"
     },
     "output_type": "display_data"
    },
    {
     "data": {
      "image/png": "[encoded data removed]",
      "text/plain": [
       "<Figure size 432x288 with 1 Axes>"
      ]
     },
     "metadata": {
      "needs_background": "light"
     },
     "output_type": "display_data"
    },
    {
     "data": {
      "image/png": "[encoded data removed]",
      "text/plain": [
       "<Figure size 432x288 with 1 Axes>"
      ]
     },
     "metadata": {
      "needs_background": "light"
     },
     "output_type": "display_data"
    }
   ],
   "source": [
    "# build figure to compare the distribution of 5 columns\n",
    "\n",
    "\n",
    "for i, column in enumerate(check_columns):\n",
    "\n",
    "    \n",
    "    azdias_eng_10percent_row[column].value_counts().plot.bar()\n",
    "    \n",
    "    plt.title(column +' included_rows')\n",
    "    plt.xlabel(\"Value\")\n",
    "    plt.ylabel('Value count')\n",
    "    plt.show()\n",
    "    \n",
    "\n",
    "    \n",
    "    azdias_eng_10percent_row_excluded_rows[column].value_counts().plot.bar()\n",
    "    \n",
    "    plt.title(column + ' excluded_rows')\n",
    "    plt.xlabel(\"Value\")\n",
    "    plt.ylabel('Value count')\n",
    "    plt.show()"
   ]
  },
  {
   "cell_type": "markdown",
   "metadata": {},
   "source": [
    "Overall it looks like the distributions of the values are similar."
   ]
  },
  {
   "cell_type": "code",
   "execution_count": 28,
   "metadata": {},
   "outputs": [],
   "source": [
    "# impute all NaNs in the dataframe, for numeric columns with the mean, for other column with mode\n",
    "for column in azdias_eng.columns.tolist():\n",
    "    if (column_metadata2[column_metadata2['col_name']==column]['format']=='num').iloc[0]:\n",
    "        azdias_eng[column].fillna(azdias_eng[column].mean(), inplace=True)\n",
    "\n",
    "    else:\n",
    "        azdias_eng[column].fillna(azdias_eng[column].mode()[0], inplace=True)"
   ]
  },
  {
   "cell_type": "markdown",
   "metadata": {},
   "source": [
    "The categorical columns have to be encoded for the machine learning. First I sort all category columns by the number of their unique values because in one-hot-encoding this number decides the number of new columns which are created."
   ]
  },
  {
   "cell_type": "code",
   "execution_count": 29,
   "metadata": {},
   "outputs": [
    {
     "data": {
      "image/png": "[encoded data removed]",
      "text/plain": [
       "<Figure size 432x288 with 1 Axes>"
      ]
     },
     "metadata": {
      "needs_background": "light"
     },
     "output_type": "display_data"
    }
   ],
   "source": [
    "# create a plot with unique values per categorical column\n",
    "cat_column_meta = column_metadata2[column_metadata2['format']=='cat'].sort_values('val_number', ascending=False)\n",
    "pd.Series(cat_column_meta['val_number'].values, index=cat_column_meta['col_name']).plot.bar()\n",
    "plt.title('Unique values in cat columns')\n",
    "plt.ylabel('Number of unique values')\n",
    "plt.xlabel('Column name')\n",
    "plt.show()"
   ]
  },
  {
   "cell_type": "code",
   "execution_count": 32,
   "metadata": {},
   "outputs": [
    {
     "name": "stdout",
     "output_type": "stream",
     "text": [
      "The columns to one-hot-encode are: ['RETOURTYP_BK_S', 'ZABEOTYP', 'LP_STATUS_GROB', 'GEBAEUDETYP_RASTER', 'FINANZTYP', 'D19_KONSUMTYP_MAX', 'SHOPPER_TYP', 'AGER_TYP', 'NATIONALITAET_KZ', 'HEALTH_TYP', 'STRUKTURTYP']\n",
      "\n",
      "The columns to drop are:  ['CAMEO_DEU_2015', 'LP_LEBENSPHASE_FEIN', 'D19_LETZTER_KAUF_BRANCHE', 'CAMEO_INTL_2015', 'PRAEGENDE_JUGENDJAHRE', 'LP_LEBENSPHASE_GROB', 'GFK_URLAUBERTYP', 'LP_FAMILIE_FEIN', 'LP_STATUS_FEIN', 'CAMEO_DEUG_2015', 'WOHNLAGE', 'REGIOTYP', 'GEMEINDETYP', 'GEBAEUDETYP', 'D19_KONSUMTYP', 'KBA05_HERSTTEMP', 'KBA05_MAXHERST', 'TITEL_KZ', 'LP_FAMILIE_GROB', 'CJT_GESAMTTYP', 'KBA05_MODTEMP']\n"
     ]
    }
   ],
   "source": [
    "# I decided to encode only categorical values with less than 6 unique values due to memory shortage and drop the rest\n",
    "cat_col_7_unique = cat_column_meta[cat_column_meta['val_number']<7]['col_name'].tolist()\n",
    "cat_col_drop = cat_column_meta[cat_column_meta['val_number']>=7]['col_name'].tolist()\n",
    "print('The columns to one-hot-encode are:' , cat_col_7_unique)\n",
    "print('')\n",
    "print('The columns to drop are: ',cat_col_drop)"
   ]
  },
  {
   "cell_type": "code",
   "execution_count": 33,
   "metadata": {},
   "outputs": [
    {
     "data": {
      "text/plain": [
       "['NATIONALITAET_KZ',\n",
       " 'D19_KONSUMTYP_MAX',\n",
       " 'GEBAEUDETYP_RASTER',\n",
       " 'FINANZTYP',\n",
       " 'LP_STATUS_GROB',\n",
       " 'SHOPPER_TYP',\n",
       " 'ZABEOTYP',\n",
       " 'RETOURTYP_BK_S',\n",
       " 'HEALTH_TYP',\n",
       " 'STRUKTURTYP']"
      ]
     },
     "execution_count": 33,
     "metadata": {},
     "output_type": "execute_result"
    }
   ],
   "source": [
    "# choose only columns to encode which are still in the dataframe\n",
    "cat_col_set = set(cat_col_7_unique)\n",
    "col_set = set(azdias_eng.columns)\n",
    "one_hot_list = list(col_set.intersection(cat_col_set))\n",
    "one_hot_list"
   ]
  },
  {
   "cell_type": "code",
   "execution_count": 34,
   "metadata": {},
   "outputs": [
    {
     "data": {
      "text/plain": [
       "['KBA05_MODTEMP',\n",
       " 'PRAEGENDE_JUGENDJAHRE',\n",
       " 'LP_FAMILIE_GROB',\n",
       " 'LP_LEBENSPHASE_FEIN',\n",
       " 'GEBAEUDETYP',\n",
       " 'KBA05_HERSTTEMP',\n",
       " 'LP_FAMILIE_FEIN',\n",
       " 'GFK_URLAUBERTYP',\n",
       " 'WOHNLAGE',\n",
       " 'GEMEINDETYP',\n",
       " 'KBA05_MAXHERST',\n",
       " 'TITEL_KZ',\n",
       " 'CAMEO_DEU_2015',\n",
       " 'CJT_GESAMTTYP',\n",
       " 'CAMEO_DEUG_2015',\n",
       " 'REGIOTYP',\n",
       " 'LP_LEBENSPHASE_GROB',\n",
       " 'CAMEO_INTL_2015',\n",
       " 'LP_STATUS_FEIN']"
      ]
     },
     "execution_count": 34,
     "metadata": {},
     "output_type": "execute_result"
    }
   ],
   "source": [
    "# choose only columns to drop which are still in the dataframe\n",
    "cat_col_set = set(cat_col_drop)\n",
    "col_set = set(azdias_eng.columns)\n",
    "cat_drop_list = list(col_set.intersection(cat_col_set))\n",
    "cat_drop_list"
   ]
  },
  {
   "cell_type": "code",
   "execution_count": 35,
   "metadata": {},
   "outputs": [],
   "source": [
    "#one-hot-encode the chosen columns\n",
    "azdias_eng = pd.get_dummies(data=azdias_eng, columns=one_hot_list)"
   ]
  },
  {
   "cell_type": "code",
   "execution_count": 36,
   "metadata": {},
   "outputs": [],
   "source": [
    "# drop category columns with more than 6 unique values\n",
    "azdias_eng.drop(cat_drop_list, axis=1, inplace=True)"
   ]
  },
  {
   "cell_type": "code",
   "execution_count": 37,
   "metadata": {},
   "outputs": [
    {
     "data": {
      "text/plain": [
       "(445610, 367)"
      ]
     },
     "execution_count": 37,
     "metadata": {},
     "output_type": "execute_result"
    }
   ],
   "source": [
    "# show shape of the dataframe\n",
    "azdias_eng.shape"
   ]
  },
  {
   "cell_type": "markdown",
   "metadata": {},
   "source": [
    "## Part 1: Customer Segmentation Report\n",
    "\n",
    "The main bulk of your analysis will come in this part of the project. Here, you should use unsupervised learning techniques to describe the relationship between the demographics of the company's existing customers and the general population of Germany. By the end of this part, you should be able to describe parts of the general population that are more likely to be part of the mail-order company's main customer base, and which parts of the general population are less so."
   ]
  },
  {
   "cell_type": "markdown",
   "metadata": {},
   "source": [
    "To find cluster in the dataset the algorithm KMeans will be used and to do that a principal component analysis will take place. In order to calculate PCA the dataframe has to be standardized with the sklearn StandardScaler."
   ]
  },
  {
   "cell_type": "code",
   "execution_count": 38,
   "metadata": {},
   "outputs": [],
   "source": [
    "#instanitate scaler\n",
    "scaler = preprocessing.StandardScaler()"
   ]
  },
  {
   "cell_type": "code",
   "execution_count": 39,
   "metadata": {},
   "outputs": [],
   "source": [
    "# make array out of dataframe values\n",
    "azdias_scaler_array = azdias_eng.values"
   ]
  },
  {
   "cell_type": "code",
   "execution_count": 40,
   "metadata": {},
   "outputs": [],
   "source": [
    "#standardize the columns and build new standardized dataframe\n",
    "azdias_scaler_df = pd.DataFrame(scaler.fit_transform(azdias_scaler_array), columns = list(azdias_eng.columns))"
   ]
  },
  {
   "cell_type": "code",
   "execution_count": 41,
   "metadata": {},
   "outputs": [],
   "source": [
    "# caclulate PCA\n",
    "pca = PCA()\n",
    "azdias_eng_pca = pca.fit(azdias_scaler_df)"
   ]
  },
  {
   "cell_type": "code",
   "execution_count": 43,
   "metadata": {},
   "outputs": [
    {
     "data": {
      "image/png": "[encoded data removed]",
      "text/plain": [
       "<Figure size 432x288 with 1 Axes>"
      ]
     },
     "metadata": {
      "needs_background": "light"
     },
     "output_type": "display_data"
    }
   ],
   "source": [
    "# Plot cumulative explained variance\n",
    "explained_variance_ratio = azdias_eng_pca.explained_variance_ratio_\n",
    "cumulative_evr = np.cumsum(explained_variance_ratio)\n",
    "plt.plot(range(len(cumulative_evr)), cumulative_evr)\n",
    "plt.title('Cumulative explained variance')\n",
    "plt.ylabel('Explained variance ration')\n",
    "plt.xlabel('Number of components')\n",
    "plt.show()"
   ]
  },
  {
   "cell_type": "code",
   "execution_count": 44,
   "metadata": {},
   "outputs": [],
   "source": [
    "# choose 200 components because the gain of explained variance starts to cost too much more components\n",
    "pca = PCA(200)\n",
    "azdias_eng_pca_data = pca.fit_transform(azdias_scaler_df)"
   ]
  },
  {
   "cell_type": "code",
   "execution_count": 47,
   "metadata": {},
   "outputs": [
    {
     "data": {
      "text/html": [
       "<div>\n",
       "<style scoped>\n",
       "    .dataframe tbody tr th:only-of-type {\n",
       "        vertical-align: middle;\n",
       "    }\n",
       "\n",
       "    .dataframe tbody tr th {\n",
       "        vertical-align: top;\n",
       "    }\n",
       "\n",
       "    .dataframe thead th {\n",
       "        text-align: right;\n",
       "    }\n",
       "</style>\n",
       "<table border=\"1\" class=\"dataframe\">\n",
       "  <thead>\n",
       "    <tr style=\"text-align: right;\">\n",
       "      <th></th>\n",
       "      <th>Explained Variance</th>\n",
       "      <th>LNR</th>\n",
       "      <th>AKT_DAT_KL</th>\n",
       "      <th>ALTER_HH</th>\n",
       "      <th>ANZ_HAUSHALTE_AKTIV</th>\n",
       "      <th>ANZ_HH_TITEL</th>\n",
       "      <th>ANZ_KINDER</th>\n",
       "      <th>ANZ_PERSONEN</th>\n",
       "      <th>ANZ_STATISTISCHE_HAUSHALTE</th>\n",
       "      <th>ANZ_TITEL</th>\n",
       "      <th>...</th>\n",
       "      <th>RETOURTYP_BK_S_2.0</th>\n",
       "      <th>RETOURTYP_BK_S_3.0</th>\n",
       "      <th>RETOURTYP_BK_S_4.0</th>\n",
       "      <th>RETOURTYP_BK_S_5.0</th>\n",
       "      <th>HEALTH_TYP_1.0</th>\n",
       "      <th>HEALTH_TYP_2.0</th>\n",
       "      <th>HEALTH_TYP_3.0</th>\n",
       "      <th>STRUKTURTYP_1.0</th>\n",
       "      <th>STRUKTURTYP_2.0</th>\n",
       "      <th>STRUKTURTYP_3.0</th>\n",
       "    </tr>\n",
       "  </thead>\n",
       "  <tbody>\n",
       "    <tr>\n",
       "      <th>Dimension 1</th>\n",
       "      <td>0.0747</td>\n",
       "      <td>0.0194</td>\n",
       "      <td>-0.0579</td>\n",
       "      <td>0.0631</td>\n",
       "      <td>-0.0755</td>\n",
       "      <td>-0.0186</td>\n",
       "      <td>0.0365</td>\n",
       "      <td>0.0810</td>\n",
       "      <td>-0.0745</td>\n",
       "      <td>0.0024</td>\n",
       "      <td>...</td>\n",
       "      <td>0.0347</td>\n",
       "      <td>0.0029</td>\n",
       "      <td>0.0169</td>\n",
       "      <td>-0.0318</td>\n",
       "      <td>0.0212</td>\n",
       "      <td>0.0079</td>\n",
       "      <td>-0.0240</td>\n",
       "      <td>0.0671</td>\n",
       "      <td>0.0398</td>\n",
       "      <td>-0.0827</td>\n",
       "    </tr>\n",
       "    <tr>\n",
       "      <th>Dimension 2</th>\n",
       "      <td>0.0483</td>\n",
       "      <td>-0.0540</td>\n",
       "      <td>0.0014</td>\n",
       "      <td>0.0987</td>\n",
       "      <td>0.0168</td>\n",
       "      <td>-0.0102</td>\n",
       "      <td>0.0529</td>\n",
       "      <td>0.0557</td>\n",
       "      <td>0.0143</td>\n",
       "      <td>-0.0076</td>\n",
       "      <td>...</td>\n",
       "      <td>0.0428</td>\n",
       "      <td>-0.0265</td>\n",
       "      <td>0.0442</td>\n",
       "      <td>-0.0738</td>\n",
       "      <td>-0.0061</td>\n",
       "      <td>0.0009</td>\n",
       "      <td>0.0039</td>\n",
       "      <td>0.0174</td>\n",
       "      <td>0.0015</td>\n",
       "      <td>-0.0148</td>\n",
       "    </tr>\n",
       "    <tr>\n",
       "      <th>Dimension 3</th>\n",
       "      <td>0.0466</td>\n",
       "      <td>0.0611</td>\n",
       "      <td>0.0173</td>\n",
       "      <td>0.0530</td>\n",
       "      <td>0.0329</td>\n",
       "      <td>0.0241</td>\n",
       "      <td>0.0249</td>\n",
       "      <td>0.0204</td>\n",
       "      <td>0.0301</td>\n",
       "      <td>0.0081</td>\n",
       "      <td>...</td>\n",
       "      <td>0.0256</td>\n",
       "      <td>-0.0410</td>\n",
       "      <td>0.0095</td>\n",
       "      <td>-0.0059</td>\n",
       "      <td>-0.0049</td>\n",
       "      <td>0.0042</td>\n",
       "      <td>-0.0002</td>\n",
       "      <td>-0.0835</td>\n",
       "      <td>-0.0312</td>\n",
       "      <td>0.0893</td>\n",
       "    </tr>\n",
       "    <tr>\n",
       "      <th>Dimension 4</th>\n",
       "      <td>0.0386</td>\n",
       "      <td>-0.0445</td>\n",
       "      <td>-0.0479</td>\n",
       "      <td>0.0145</td>\n",
       "      <td>0.0360</td>\n",
       "      <td>0.0213</td>\n",
       "      <td>-0.0358</td>\n",
       "      <td>0.0106</td>\n",
       "      <td>0.0383</td>\n",
       "      <td>0.0089</td>\n",
       "      <td>...</td>\n",
       "      <td>-0.0017</td>\n",
       "      <td>-0.0108</td>\n",
       "      <td>-0.0495</td>\n",
       "      <td>0.1144</td>\n",
       "      <td>0.0435</td>\n",
       "      <td>0.0567</td>\n",
       "      <td>-0.0876</td>\n",
       "      <td>-0.0267</td>\n",
       "      <td>-0.0124</td>\n",
       "      <td>0.0304</td>\n",
       "    </tr>\n",
       "    <tr>\n",
       "      <th>Dimension 5</th>\n",
       "      <td>0.0233</td>\n",
       "      <td>-0.0955</td>\n",
       "      <td>-0.0664</td>\n",
       "      <td>-0.0369</td>\n",
       "      <td>0.0061</td>\n",
       "      <td>0.0134</td>\n",
       "      <td>0.0222</td>\n",
       "      <td>0.0314</td>\n",
       "      <td>0.0086</td>\n",
       "      <td>0.0071</td>\n",
       "      <td>...</td>\n",
       "      <td>0.0239</td>\n",
       "      <td>0.0652</td>\n",
       "      <td>-0.0273</td>\n",
       "      <td>-0.0390</td>\n",
       "      <td>-0.0246</td>\n",
       "      <td>-0.0219</td>\n",
       "      <td>0.0399</td>\n",
       "      <td>-0.0437</td>\n",
       "      <td>-0.0327</td>\n",
       "      <td>0.0590</td>\n",
       "    </tr>\n",
       "    <tr>\n",
       "      <th>Dimension 6</th>\n",
       "      <td>0.0215</td>\n",
       "      <td>-0.0822</td>\n",
       "      <td>0.1070</td>\n",
       "      <td>0.0445</td>\n",
       "      <td>0.0105</td>\n",
       "      <td>0.0059</td>\n",
       "      <td>-0.0287</td>\n",
       "      <td>-0.0543</td>\n",
       "      <td>0.0111</td>\n",
       "      <td>0.0004</td>\n",
       "      <td>...</td>\n",
       "      <td>-0.0640</td>\n",
       "      <td>-0.0476</td>\n",
       "      <td>0.0532</td>\n",
       "      <td>-0.0062</td>\n",
       "      <td>0.0296</td>\n",
       "      <td>0.0301</td>\n",
       "      <td>-0.0515</td>\n",
       "      <td>0.0694</td>\n",
       "      <td>0.0477</td>\n",
       "      <td>-0.0905</td>\n",
       "    </tr>\n",
       "    <tr>\n",
       "      <th>Dimension 7</th>\n",
       "      <td>0.0185</td>\n",
       "      <td>0.0099</td>\n",
       "      <td>-0.0584</td>\n",
       "      <td>-0.0230</td>\n",
       "      <td>-0.0277</td>\n",
       "      <td>-0.0048</td>\n",
       "      <td>-0.0145</td>\n",
       "      <td>0.0297</td>\n",
       "      <td>-0.0280</td>\n",
       "      <td>0.0080</td>\n",
       "      <td>...</td>\n",
       "      <td>-0.1105</td>\n",
       "      <td>0.0392</td>\n",
       "      <td>0.0270</td>\n",
       "      <td>0.0072</td>\n",
       "      <td>0.0167</td>\n",
       "      <td>-0.0509</td>\n",
       "      <td>0.0355</td>\n",
       "      <td>-0.0585</td>\n",
       "      <td>-0.0368</td>\n",
       "      <td>0.0737</td>\n",
       "    </tr>\n",
       "    <tr>\n",
       "      <th>Dimension 8</th>\n",
       "      <td>0.0177</td>\n",
       "      <td>0.0003</td>\n",
       "      <td>-0.0728</td>\n",
       "      <td>-0.0395</td>\n",
       "      <td>0.0229</td>\n",
       "      <td>0.0063</td>\n",
       "      <td>0.0100</td>\n",
       "      <td>0.0434</td>\n",
       "      <td>0.0212</td>\n",
       "      <td>0.0042</td>\n",
       "      <td>...</td>\n",
       "      <td>-0.0245</td>\n",
       "      <td>0.0595</td>\n",
       "      <td>0.0140</td>\n",
       "      <td>-0.0075</td>\n",
       "      <td>0.0091</td>\n",
       "      <td>-0.0669</td>\n",
       "      <td>0.0567</td>\n",
       "      <td>0.0478</td>\n",
       "      <td>-0.0004</td>\n",
       "      <td>-0.0375</td>\n",
       "    </tr>\n",
       "    <tr>\n",
       "      <th>Dimension 9</th>\n",
       "      <td>0.0164</td>\n",
       "      <td>0.0049</td>\n",
       "      <td>0.0076</td>\n",
       "      <td>0.0040</td>\n",
       "      <td>-0.0217</td>\n",
       "      <td>-0.0065</td>\n",
       "      <td>0.0035</td>\n",
       "      <td>0.0188</td>\n",
       "      <td>-0.0218</td>\n",
       "      <td>0.0007</td>\n",
       "      <td>...</td>\n",
       "      <td>0.0057</td>\n",
       "      <td>-0.0150</td>\n",
       "      <td>-0.0235</td>\n",
       "      <td>0.0066</td>\n",
       "      <td>0.0003</td>\n",
       "      <td>-0.0190</td>\n",
       "      <td>0.0178</td>\n",
       "      <td>-0.0696</td>\n",
       "      <td>-0.0239</td>\n",
       "      <td>0.0728</td>\n",
       "    </tr>\n",
       "    <tr>\n",
       "      <th>Dimension 10</th>\n",
       "      <td>0.0146</td>\n",
       "      <td>0.0767</td>\n",
       "      <td>0.0050</td>\n",
       "      <td>0.0141</td>\n",
       "      <td>0.0796</td>\n",
       "      <td>0.0028</td>\n",
       "      <td>0.0010</td>\n",
       "      <td>-0.0010</td>\n",
       "      <td>0.0804</td>\n",
       "      <td>-0.0145</td>\n",
       "      <td>...</td>\n",
       "      <td>-0.0224</td>\n",
       "      <td>-0.0394</td>\n",
       "      <td>-0.0035</td>\n",
       "      <td>0.0458</td>\n",
       "      <td>0.0226</td>\n",
       "      <td>-0.0069</td>\n",
       "      <td>-0.0109</td>\n",
       "      <td>-0.0679</td>\n",
       "      <td>0.0042</td>\n",
       "      <td>0.0506</td>\n",
       "    </tr>\n",
       "  </tbody>\n",
       "</table>\n",
       "<p>10 rows × 368 columns</p>\n",
       "</div>"
      ],
      "text/plain": [
       "              Explained Variance     LNR  AKT_DAT_KL  ALTER_HH  \\\n",
       "Dimension 1               0.0747  0.0194     -0.0579    0.0631   \n",
       "Dimension 2               0.0483 -0.0540      0.0014    0.0987   \n",
       "Dimension 3               0.0466  0.0611      0.0173    0.0530   \n",
       "Dimension 4               0.0386 -0.0445     -0.0479    0.0145   \n",
       "Dimension 5               0.0233 -0.0955     -0.0664   -0.0369   \n",
       "Dimension 6               0.0215 -0.0822      0.1070    0.0445   \n",
       "Dimension 7               0.0185  0.0099     -0.0584   -0.0230   \n",
       "Dimension 8               0.0177  0.0003     -0.0728   -0.0395   \n",
       "Dimension 9               0.0164  0.0049      0.0076    0.0040   \n",
       "Dimension 10              0.0146  0.0767      0.0050    0.0141   \n",
       "\n",
       "              ANZ_HAUSHALTE_AKTIV  ANZ_HH_TITEL  ANZ_KINDER  ANZ_PERSONEN  \\\n",
       "Dimension 1               -0.0755       -0.0186      0.0365        0.0810   \n",
       "Dimension 2                0.0168       -0.0102      0.0529        0.0557   \n",
       "Dimension 3                0.0329        0.0241      0.0249        0.0204   \n",
       "Dimension 4                0.0360        0.0213     -0.0358        0.0106   \n",
       "Dimension 5                0.0061        0.0134      0.0222        0.0314   \n",
       "Dimension 6                0.0105        0.0059     -0.0287       -0.0543   \n",
       "Dimension 7               -0.0277       -0.0048     -0.0145        0.0297   \n",
       "Dimension 8                0.0229        0.0063      0.0100        0.0434   \n",
       "Dimension 9               -0.0217       -0.0065      0.0035        0.0188   \n",
       "Dimension 10               0.0796        0.0028      0.0010       -0.0010   \n",
       "\n",
       "              ANZ_STATISTISCHE_HAUSHALTE  ANZ_TITEL       ...         \\\n",
       "Dimension 1                      -0.0745     0.0024       ...          \n",
       "Dimension 2                       0.0143    -0.0076       ...          \n",
       "Dimension 3                       0.0301     0.0081       ...          \n",
       "Dimension 4                       0.0383     0.0089       ...          \n",
       "Dimension 5                       0.0086     0.0071       ...          \n",
       "Dimension 6                       0.0111     0.0004       ...          \n",
       "Dimension 7                      -0.0280     0.0080       ...          \n",
       "Dimension 8                       0.0212     0.0042       ...          \n",
       "Dimension 9                      -0.0218     0.0007       ...          \n",
       "Dimension 10                      0.0804    -0.0145       ...          \n",
       "\n",
       "              RETOURTYP_BK_S_2.0  RETOURTYP_BK_S_3.0  RETOURTYP_BK_S_4.0  \\\n",
       "Dimension 1               0.0347              0.0029              0.0169   \n",
       "Dimension 2               0.0428             -0.0265              0.0442   \n",
       "Dimension 3               0.0256             -0.0410              0.0095   \n",
       "Dimension 4              -0.0017             -0.0108             -0.0495   \n",
       "Dimension 5               0.0239              0.0652             -0.0273   \n",
       "Dimension 6              -0.0640             -0.0476              0.0532   \n",
       "Dimension 7              -0.1105              0.0392              0.0270   \n",
       "Dimension 8              -0.0245              0.0595              0.0140   \n",
       "Dimension 9               0.0057             -0.0150             -0.0235   \n",
       "Dimension 10             -0.0224             -0.0394             -0.0035   \n",
       "\n",
       "              RETOURTYP_BK_S_5.0  HEALTH_TYP_1.0  HEALTH_TYP_2.0  \\\n",
       "Dimension 1              -0.0318          0.0212          0.0079   \n",
       "Dimension 2              -0.0738         -0.0061          0.0009   \n",
       "Dimension 3              -0.0059         -0.0049          0.0042   \n",
       "Dimension 4               0.1144          0.0435          0.0567   \n",
       "Dimension 5              -0.0390         -0.0246         -0.0219   \n",
       "Dimension 6              -0.0062          0.0296          0.0301   \n",
       "Dimension 7               0.0072          0.0167         -0.0509   \n",
       "Dimension 8              -0.0075          0.0091         -0.0669   \n",
       "Dimension 9               0.0066          0.0003         -0.0190   \n",
       "Dimension 10              0.0458          0.0226         -0.0069   \n",
       "\n",
       "              HEALTH_TYP_3.0  STRUKTURTYP_1.0  STRUKTURTYP_2.0  \\\n",
       "Dimension 1          -0.0240           0.0671           0.0398   \n",
       "Dimension 2           0.0039           0.0174           0.0015   \n",
       "Dimension 3          -0.0002          -0.0835          -0.0312   \n",
       "Dimension 4          -0.0876          -0.0267          -0.0124   \n",
       "Dimension 5           0.0399          -0.0437          -0.0327   \n",
       "Dimension 6          -0.0515           0.0694           0.0477   \n",
       "Dimension 7           0.0355          -0.0585          -0.0368   \n",
       "Dimension 8           0.0567           0.0478          -0.0004   \n",
       "Dimension 9           0.0178          -0.0696          -0.0239   \n",
       "Dimension 10         -0.0109          -0.0679           0.0042   \n",
       "\n",
       "              STRUKTURTYP_3.0  \n",
       "Dimension 1           -0.0827  \n",
       "Dimension 2           -0.0148  \n",
       "Dimension 3            0.0893  \n",
       "Dimension 4            0.0304  \n",
       "Dimension 5            0.0590  \n",
       "Dimension 6           -0.0905  \n",
       "Dimension 7            0.0737  \n",
       "Dimension 8           -0.0375  \n",
       "Dimension 9            0.0728  \n",
       "Dimension 10           0.0506  \n",
       "\n",
       "[10 rows x 368 columns]"
      ]
     },
     "execution_count": 47,
     "metadata": {},
     "output_type": "execute_result"
    }
   ],
   "source": [
    "# print the top ten Dimensions with the highest explained variance ratio\n",
    "\n",
    "def weights_of_pca(df, pca):\n",
    "    '''\n",
    "    create dataframe for the components sorted by explained variance ratio and weights for each feature\n",
    "    input: dataframe with scaled and cleaned data, pca\n",
    "    output: dataframe for each feature with weights and explained variance ratio\n",
    "       \n",
    "    \n",
    "    '''\n",
    "    \n",
    "    # Dimension indexing\n",
    "    dimensions = dimensions = ['Dimension {}'.format(i) for i in range(1,len(pca.components_)+1)]\n",
    "\n",
    "    # PCA components\n",
    "    components = pd.DataFrame(np.round(pca.components_, 4), columns = df.keys())\n",
    "    components.index = dimensions\n",
    "\n",
    "    # PCA explained variance\n",
    "    ratios = pca.explained_variance_ratio_.reshape(len(pca.components_), 1)\n",
    "    variance_ratios = pd.DataFrame(np.round(ratios, 4), columns = ['Explained Variance'])\n",
    "    variance_ratios.index = dimensions\n",
    "\n",
    "    weights_df = pd.concat([variance_ratios, components], axis = 1)\n",
    "    \n",
    "    return weights_df\n",
    "\n",
    "weights_df = weights_of_pca(azdias_scaler_df, pca)\n",
    "weights_df.head(10)"
   ]
  },
  {
   "cell_type": "markdown",
   "metadata": {},
   "source": [
    "The principal components are the eigenvectors and the weights are the coordinates of these vectors. So if the absolute values of the weights of certain features are similar between components then these principal componenent vectors tend to point in the same direction(values equal) or the opposite direction(values equal to negative of value) for this feature. In the figures below you can see the top5 positive and negative weights for the top3 prinicipal components"
   ]
  },
  {
   "cell_type": "code",
   "execution_count": 48,
   "metadata": {},
   "outputs": [
    {
     "name": "stdout",
     "output_type": "stream",
     "text": [
      "PLZ8_ANTG1     0.1330\n",
      "KBA13_ANTG1    0.1320\n",
      "MOBI_RASTER    0.1299\n",
      "MOBI_REGIO     0.1285\n",
      "KBA05_ANTG1    0.1229\n",
      "Name: Dimension 1, dtype: float64\n",
      "\n",
      "KBA13_BAUMAX   -0.1134\n",
      "VK_DHT4A       -0.1135\n",
      "EWDICHTE       -0.1144\n",
      "PLZ8_ANTG3     -0.1331\n",
      "KBA13_ANTG3    -0.1333\n",
      "Name: Dimension 1, dtype: float64\n"
     ]
    }
   ],
   "source": [
    "# weights for the first principal component\n",
    "weights_1 = (weights_df.iloc[0]).sort_values(ascending=False)\n",
    "print(weights_1.head())\n",
    "print('')\n",
    "print(weights_1.tail())"
   ]
  },
  {
   "cell_type": "code",
   "execution_count": 49,
   "metadata": {},
   "outputs": [
    {
     "name": "stdout",
     "output_type": "stream",
     "text": [
      "D19_GESAMT_ANZ_24     0.1298\n",
      "ONLINE_AFFINITAET     0.1259\n",
      "D19_GESAMT_ANZ_12     0.1215\n",
      "D19_VERSAND_ANZ_24    0.1170\n",
      "D19_VERSAND_ANZ_12    0.1071\n",
      "Name: Dimension 2, dtype: float64\n",
      "\n",
      "VK_DHT4A                   -0.1190\n",
      "D19_VERSAND_ONLINE_DATUM   -0.1196\n",
      "KOMBIALTER                 -0.1227\n",
      "D19_GESAMT_DATUM           -0.1231\n",
      "D19_GESAMT_ONLINE_DATUM    -0.1244\n",
      "Name: Dimension 2, dtype: float64\n"
     ]
    }
   ],
   "source": [
    "# weights for the second principal component\n",
    "weights_2 = (weights_df.iloc[1]).sort_values(ascending=False)\n",
    "print(weights_2.head())\n",
    "print('')\n",
    "print(weights_2.tail())"
   ]
  },
  {
   "cell_type": "code",
   "execution_count": 50,
   "metadata": {},
   "outputs": [
    {
     "name": "stdout",
     "output_type": "stream",
     "text": [
      "KBA13_HERST_BMW_BENZ           0.1648\n",
      "KBA13_SEG_OBEREMITTELKLASSE    0.1434\n",
      "KBA13_BMW                      0.1405\n",
      "KBA13_MERCEDES                 0.1385\n",
      "KBA13_SITZE_4                  0.1369\n",
      "Name: Dimension 3, dtype: float64\n",
      "\n",
      "KBA13_SEG_KLEINWAGEN   -0.1130\n",
      "KBA13_ALTERHALTER_60   -0.1158\n",
      "KBA13_KMH_140_210      -0.1162\n",
      "KBA13_HALTER_20        -0.1170\n",
      "KBA13_SITZE_5          -0.1365\n",
      "Name: Dimension 3, dtype: float64\n"
     ]
    }
   ],
   "source": [
    "# weights for the third principal component\n",
    "weights_3 = weights_df.iloc[2].sort_values(ascending=False)\n",
    "print(weights_3.head())\n",
    "print('')\n",
    "print(weights_3.tail())"
   ]
  },
  {
   "cell_type": "markdown",
   "metadata": {},
   "source": [
    "To find typical customer segments the KMeans algorithm is choosen which calculates cluster on the components after principal component analysis."
   ]
  },
  {
   "cell_type": "code",
   "execution_count": 51,
   "metadata": {},
   "outputs": [
    {
     "name": "stdout",
     "output_type": "stream",
     "text": [
      "10 cluster KMean calculated\n",
      "13 cluster KMean calculated\n",
      "16 cluster KMean calculated\n",
      "19 cluster KMean calculated\n"
     ]
    }
   ],
   "source": [
    "# create cluster over a number of different cluster counts and calculate scores\n",
    "\n",
    "cluster_choice = {}\n",
    "for cluster_number in range(10,20,3):\n",
    "\n",
    "    # run k-means clustering on the data and...\n",
    "    kmeans = KMeans(n_clusters=cluster_number)\n",
    "    kmeans.fit(azdias_eng_pca_data)\n",
    "    \n",
    "    # compute the average within-cluster distances.\n",
    "    score = kmeans.score(azdias_eng_pca_data)\n",
    "    cluster_choice[cluster_number] = score\n",
    "    \n",
    "    print(str(cluster_number)+' cluster KMean calculated')"
   ]
  },
  {
   "cell_type": "code",
   "execution_count": 52,
   "metadata": {},
   "outputs": [
    {
     "data": {
      "image/png": "[encoded data removed]",
      "text/plain": [
       "<Figure size 432x288 with 1 Axes>"
      ]
     },
     "metadata": {
      "needs_background": "light"
     },
     "output_type": "display_data"
    }
   ],
   "source": [
    "# plot the scores for different cluster sizes\n",
    "\n",
    "scores = []\n",
    "for key in cluster_choice.keys():\n",
    "    scores.append(cluster_choice[key])\n",
    "\n",
    "plt.plot(cluster_choice.keys(), scores)\n",
    "plt.title('Score by Clusters')\n",
    "plt.xlabel('Clusters')\n",
    "plt.ylabel('Score')\n",
    "plt.show()"
   ]
  },
  {
   "cell_type": "code",
   "execution_count": 53,
   "metadata": {},
   "outputs": [
    {
     "data": {
      "text/plain": [
       "KMeans(algorithm='auto', copy_x=True, init='k-means++', max_iter=300,\n",
       "    n_clusters=13, n_init=10, n_jobs=None, precompute_distances='auto',\n",
       "    random_state=None, tol=0.0001, verbose=0)"
      ]
     },
     "execution_count": 53,
     "metadata": {},
     "output_type": "execute_result"
    }
   ],
   "source": [
    "# following the elbow method choosing the number clusters as 13\n",
    "kmeans = KMeans(n_clusters=13)\n",
    "kmeans.fit(azdias_eng_pca_data)"
   ]
  },
  {
   "cell_type": "code",
   "execution_count": 54,
   "metadata": {},
   "outputs": [],
   "source": [
    "# save kmeans model to a pickle to save time when reopening the notebook to work on\n",
    "pkl_filename = \"kmeans_13_cluster.pkl\"  \n",
    "with open(pkl_filename, 'wb') as file:  \n",
    "    pickle.dump(kmeans, file)"
   ]
  },
  {
   "cell_type": "code",
   "execution_count": 55,
   "metadata": {},
   "outputs": [],
   "source": [
    "# create predictions for the population data\n",
    "population_prediction = kmeans.predict(azdias_eng_pca_data)"
   ]
  },
  {
   "cell_type": "code",
   "execution_count": 56,
   "metadata": {},
   "outputs": [],
   "source": [
    "# load data for customers\n",
    "customers_df = pd.read_csv('customers_df.csv', sep=',', dtype={'CAMEO_DEUG_2015': object, 'CAMEO_INTL_2015':object})"
   ]
  },
  {
   "cell_type": "code",
   "execution_count": 57,
   "metadata": {},
   "outputs": [
    {
     "data": {
      "text/html": [
       "<div>\n",
       "<style scoped>\n",
       "    .dataframe tbody tr th:only-of-type {\n",
       "        vertical-align: middle;\n",
       "    }\n",
       "\n",
       "    .dataframe tbody tr th {\n",
       "        vertical-align: top;\n",
       "    }\n",
       "\n",
       "    .dataframe thead th {\n",
       "        text-align: right;\n",
       "    }\n",
       "</style>\n",
       "<table border=\"1\" class=\"dataframe\">\n",
       "  <thead>\n",
       "    <tr style=\"text-align: right;\">\n",
       "      <th></th>\n",
       "      <th>Unnamed: 0</th>\n",
       "      <th>LNR</th>\n",
       "      <th>AGER_TYP</th>\n",
       "      <th>AKT_DAT_KL</th>\n",
       "      <th>ALTER_HH</th>\n",
       "      <th>ALTER_KIND1</th>\n",
       "      <th>ALTER_KIND2</th>\n",
       "      <th>ALTER_KIND3</th>\n",
       "      <th>ALTER_KIND4</th>\n",
       "      <th>ALTERSKATEGORIE_FEIN</th>\n",
       "      <th>...</th>\n",
       "      <th>VK_ZG11</th>\n",
       "      <th>W_KEIT_KIND_HH</th>\n",
       "      <th>WOHNDAUER_2008</th>\n",
       "      <th>WOHNLAGE</th>\n",
       "      <th>ZABEOTYP</th>\n",
       "      <th>PRODUCT_GROUP</th>\n",
       "      <th>CUSTOMER_GROUP</th>\n",
       "      <th>ONLINE_PURCHASE</th>\n",
       "      <th>ANREDE_KZ</th>\n",
       "      <th>ALTERSKATEGORIE_GROB</th>\n",
       "    </tr>\n",
       "  </thead>\n",
       "  <tbody>\n",
       "    <tr>\n",
       "      <th>0</th>\n",
       "      <td>0</td>\n",
       "      <td>9626</td>\n",
       "      <td>2</td>\n",
       "      <td>1.0</td>\n",
       "      <td>10.0</td>\n",
       "      <td>NaN</td>\n",
       "      <td>NaN</td>\n",
       "      <td>NaN</td>\n",
       "      <td>NaN</td>\n",
       "      <td>10.0</td>\n",
       "      <td>...</td>\n",
       "      <td>2.0</td>\n",
       "      <td>6.0</td>\n",
       "      <td>9.0</td>\n",
       "      <td>7.0</td>\n",
       "      <td>3</td>\n",
       "      <td>COSMETIC_AND_FOOD</td>\n",
       "      <td>MULTI_BUYER</td>\n",
       "      <td>0</td>\n",
       "      <td>1</td>\n",
       "      <td>4</td>\n",
       "    </tr>\n",
       "    <tr>\n",
       "      <th>1</th>\n",
       "      <td>1</td>\n",
       "      <td>9628</td>\n",
       "      <td>-1</td>\n",
       "      <td>9.0</td>\n",
       "      <td>11.0</td>\n",
       "      <td>NaN</td>\n",
       "      <td>NaN</td>\n",
       "      <td>NaN</td>\n",
       "      <td>NaN</td>\n",
       "      <td>NaN</td>\n",
       "      <td>...</td>\n",
       "      <td>3.0</td>\n",
       "      <td>0.0</td>\n",
       "      <td>9.0</td>\n",
       "      <td>NaN</td>\n",
       "      <td>3</td>\n",
       "      <td>FOOD</td>\n",
       "      <td>SINGLE_BUYER</td>\n",
       "      <td>0</td>\n",
       "      <td>1</td>\n",
       "      <td>4</td>\n",
       "    </tr>\n",
       "    <tr>\n",
       "      <th>2</th>\n",
       "      <td>2</td>\n",
       "      <td>143872</td>\n",
       "      <td>-1</td>\n",
       "      <td>1.0</td>\n",
       "      <td>6.0</td>\n",
       "      <td>NaN</td>\n",
       "      <td>NaN</td>\n",
       "      <td>NaN</td>\n",
       "      <td>NaN</td>\n",
       "      <td>0.0</td>\n",
       "      <td>...</td>\n",
       "      <td>11.0</td>\n",
       "      <td>6.0</td>\n",
       "      <td>9.0</td>\n",
       "      <td>2.0</td>\n",
       "      <td>3</td>\n",
       "      <td>COSMETIC_AND_FOOD</td>\n",
       "      <td>MULTI_BUYER</td>\n",
       "      <td>0</td>\n",
       "      <td>2</td>\n",
       "      <td>4</td>\n",
       "    </tr>\n",
       "    <tr>\n",
       "      <th>3</th>\n",
       "      <td>3</td>\n",
       "      <td>143873</td>\n",
       "      <td>1</td>\n",
       "      <td>1.0</td>\n",
       "      <td>8.0</td>\n",
       "      <td>NaN</td>\n",
       "      <td>NaN</td>\n",
       "      <td>NaN</td>\n",
       "      <td>NaN</td>\n",
       "      <td>8.0</td>\n",
       "      <td>...</td>\n",
       "      <td>2.0</td>\n",
       "      <td>NaN</td>\n",
       "      <td>9.0</td>\n",
       "      <td>7.0</td>\n",
       "      <td>1</td>\n",
       "      <td>COSMETIC</td>\n",
       "      <td>MULTI_BUYER</td>\n",
       "      <td>0</td>\n",
       "      <td>1</td>\n",
       "      <td>4</td>\n",
       "    </tr>\n",
       "    <tr>\n",
       "      <th>4</th>\n",
       "      <td>4</td>\n",
       "      <td>143874</td>\n",
       "      <td>-1</td>\n",
       "      <td>1.0</td>\n",
       "      <td>20.0</td>\n",
       "      <td>NaN</td>\n",
       "      <td>NaN</td>\n",
       "      <td>NaN</td>\n",
       "      <td>NaN</td>\n",
       "      <td>14.0</td>\n",
       "      <td>...</td>\n",
       "      <td>4.0</td>\n",
       "      <td>2.0</td>\n",
       "      <td>9.0</td>\n",
       "      <td>3.0</td>\n",
       "      <td>1</td>\n",
       "      <td>FOOD</td>\n",
       "      <td>MULTI_BUYER</td>\n",
       "      <td>0</td>\n",
       "      <td>1</td>\n",
       "      <td>3</td>\n",
       "    </tr>\n",
       "  </tbody>\n",
       "</table>\n",
       "<p>5 rows × 370 columns</p>\n",
       "</div>"
      ],
      "text/plain": [
       "   Unnamed: 0     LNR  AGER_TYP  AKT_DAT_KL  ALTER_HH  ALTER_KIND1  \\\n",
       "0           0    9626         2         1.0      10.0          NaN   \n",
       "1           1    9628        -1         9.0      11.0          NaN   \n",
       "2           2  143872        -1         1.0       6.0          NaN   \n",
       "3           3  143873         1         1.0       8.0          NaN   \n",
       "4           4  143874        -1         1.0      20.0          NaN   \n",
       "\n",
       "   ALTER_KIND2  ALTER_KIND3  ALTER_KIND4  ALTERSKATEGORIE_FEIN  \\\n",
       "0          NaN          NaN          NaN                  10.0   \n",
       "1          NaN          NaN          NaN                   NaN   \n",
       "2          NaN          NaN          NaN                   0.0   \n",
       "3          NaN          NaN          NaN                   8.0   \n",
       "4          NaN          NaN          NaN                  14.0   \n",
       "\n",
       "          ...           VK_ZG11  W_KEIT_KIND_HH  WOHNDAUER_2008  WOHNLAGE  \\\n",
       "0         ...               2.0             6.0             9.0       7.0   \n",
       "1         ...               3.0             0.0             9.0       NaN   \n",
       "2         ...              11.0             6.0             9.0       2.0   \n",
       "3         ...               2.0             NaN             9.0       7.0   \n",
       "4         ...               4.0             2.0             9.0       3.0   \n",
       "\n",
       "   ZABEOTYP      PRODUCT_GROUP  CUSTOMER_GROUP  ONLINE_PURCHASE ANREDE_KZ  \\\n",
       "0         3  COSMETIC_AND_FOOD     MULTI_BUYER                0         1   \n",
       "1         3               FOOD    SINGLE_BUYER                0         1   \n",
       "2         3  COSMETIC_AND_FOOD     MULTI_BUYER                0         2   \n",
       "3         1           COSMETIC     MULTI_BUYER                0         1   \n",
       "4         1               FOOD     MULTI_BUYER                0         1   \n",
       "\n",
       "  ALTERSKATEGORIE_GROB  \n",
       "0                    4  \n",
       "1                    4  \n",
       "2                    4  \n",
       "3                    4  \n",
       "4                    3  \n",
       "\n",
       "[5 rows x 370 columns]"
      ]
     },
     "execution_count": 57,
     "metadata": {},
     "output_type": "execute_result"
    }
   ],
   "source": [
    "# overview of customers data\n",
    "customers_df.head(5)"
   ]
  },
  {
   "cell_type": "code",
   "execution_count": 58,
   "metadata": {},
   "outputs": [],
   "source": [
    "# drop 'Unnamed: 0' because it is just a duplicate of the index\n",
    "customers_df = customers_df.iloc[:,1:]"
   ]
  },
  {
   "cell_type": "code",
   "execution_count": 59,
   "metadata": {},
   "outputs": [],
   "source": [
    "# remove columns which are not present in the population data\n",
    "customers_eng = customers_df[customers_df.columns.difference(['CUSTOMER_GROUP', 'ONLINE_PURCHASE','PRODUCT_GROUP'])]"
   ]
  },
  {
   "cell_type": "code",
   "execution_count": 60,
   "metadata": {},
   "outputs": [
    {
     "data": {
      "text/plain": [
       "(191652, 366)"
      ]
     },
     "execution_count": 60,
     "metadata": {},
     "output_type": "execute_result"
    }
   ],
   "source": [
    "# show shape of customer data\n",
    "customers_eng.shape"
   ]
  },
  {
   "cell_type": "code",
   "execution_count": 67,
   "metadata": {},
   "outputs": [],
   "source": [
    "# create cleaning function for the customer data, the cleaning process has to be analogue to the process of the population\n",
    "# to use the same kmean object and the singular steps of cleaning are explained above\n",
    "\n",
    "def cleaning_function(df1):\n",
    "    '''\n",
    "       function to clean and prepare the data of customers for using with the same kmeans object\n",
    "       input:dataframe raw\n",
    "       output:dataframe cleaned\n",
    "    '''\n",
    "    df = df1.copy()\n",
    "        \n",
    "    df['CAMEO_DEU_2015'] = df['CAMEO_DEU_2015'].replace('XX', np.nan)\n",
    "    df['CAMEO_DEUG_2015'] = df['CAMEO_DEUG_2015'].replace('X', np.nan).astype(float)\n",
    "    df['CAMEO_INTL_2015'] = df['CAMEO_INTL_2015'].replace('XX', np.nan).astype(float)\n",
    "\n",
    "    df['D19_LETZTER_KAUF_BRANCHE'] = df['D19_LETZTER_KAUF_BRANCHE'].replace('D19_UNBEKANNT', np.nan)\n",
    "    df['EINGEFUEGT_AM'] = df['EINGEFUEGT_AM'].str.slice(0,4).astype(float)\n",
    "    df['OST_WEST_KZ'] = df['OST_WEST_KZ'].replace(['O', 'W'], [0,1])\n",
    "    \n",
    "    for i in range(len(column_metadata2)):\n",
    "        to_nan = column_metadata2.iloc[i]['to_nan']\n",
    "        col_name = column_metadata2.iloc[i]['col_name']\n",
    "      \n",
    "        if (to_nan == 'minus1'):\n",
    "            df[col_name] = df[col_name].replace([-1, -1.0], [np.nan, np.nan])\n",
    "        \n",
    "        elif (to_nan == 'zero'):\n",
    "            df[col_name] = df[col_name].replace([-1, -1.0], [np.nan, np.nan])\n",
    "    \n",
    "        elif (to_nan == 'minus1_nine'):\n",
    "            df[col_name] = df[col_name].replace([-1, 9, -1.0, 9.0], [np.nan, np.nan, np.nan, np.nan])\n",
    "    \n",
    "        elif (to_nan == 'minus1_nine'):\n",
    "            df[col_name] = df[col_name].replace([-1, 9, -1.0, 9.0], [np.nan, np.nan, np.nan, np.nan])\n",
    "        \n",
    "    df.drop(drop_list_20percent, axis=1, inplace=True)\n",
    "    \n",
    "      \n",
    "    for column in df.columns.tolist():\n",
    "        if (column_metadata2[column_metadata2['col_name']==column]['format']=='num').iloc[0]:\n",
    "            df[column].fillna(df[column].mean(), inplace=True)\n",
    "\n",
    "        else:\n",
    "            df[column].fillna(df[column].mode()[0], inplace=True)\n",
    "    \n",
    "    \n",
    "    df = pd.get_dummies(data=df, columns=one_hot_list)\n",
    "    df.drop(cat_drop_list, axis=1, inplace=True)\n",
    "    \n",
    "    df_scaler_array = df.values\n",
    "    scaler_df = pd.DataFrame(scaler.fit_transform(df_scaler_array), columns=df.columns.tolist())\n",
    "    \n",
    "    \n",
    "    return scaler_df"
   ]
  },
  {
   "cell_type": "code",
   "execution_count": 68,
   "metadata": {},
   "outputs": [],
   "source": [
    "#apply cleaning function to customer data\n",
    "clean_customers = cleaning_function(customers_eng)"
   ]
  },
  {
   "cell_type": "code",
   "execution_count": 70,
   "metadata": {},
   "outputs": [],
   "source": [
    "#create predictions for costumers with the kmeans object used for\n",
    "pca_data_customer = pca.transform(clean_customers)\n",
    "customer_prediction = kmeans.predict(pca_data_customer)"
   ]
  },
  {
   "cell_type": "code",
   "execution_count": 71,
   "metadata": {},
   "outputs": [],
   "source": [
    "# Compare the proportion of data in each cluster for the customer data to the\n",
    "# proportion of data in each cluster for the general population.\n",
    "\n",
    "#create distribution of proportions of clusters\n",
    "\n",
    "customer_distribution = pd.Series(customer_prediction).value_counts()\n",
    "population_distribution = pd.Series(population_prediction).value_counts()\n",
    "\n",
    "customer_distribution = customer_distribution / len(customer_prediction)\n",
    "\n",
    "population_distribution = population_distribution / len(population_prediction)"
   ]
  },
  {
   "cell_type": "code",
   "execution_count": 72,
   "metadata": {},
   "outputs": [
    {
     "data": {
      "image/png": "[encoded data removed]",
      "text/plain": [
       "<Figure size 432x288 with 1 Axes>"
      ]
     },
     "metadata": {
      "needs_background": "light"
     },
     "output_type": "display_data"
    }
   ],
   "source": [
    "#print in graph the difference of proportion between customer and population\n",
    "a= customer_distribution.sort_index()\n",
    "b =population_distribution.sort_index()\n",
    "\n",
    "cust_pop_difference = (a-b).sort_values()*100\n",
    "cust_pop_difference.plot.barh()\n",
    "plt.title('Deviation customer from population proportion')\n",
    "plt.xlabel('Deviation from population in percent')\n",
    "plt.ylabel('Cluster Number')\n",
    "plt.show()\n"
   ]
  },
  {
   "cell_type": "markdown",
   "metadata": {},
   "source": [
    "In the graph above you can clearly see that cluster 3 is overrepresented in the customers and cluster 9 or 0 are underrepresented."
   ]
  },
  {
   "cell_type": "code",
   "execution_count": 93,
   "metadata": {},
   "outputs": [],
   "source": [
    "#create dataframe for clustercenters which are transformed back from pca and scaling, so the values can be compared\n",
    "k = scaler.inverse_transform(pca.inverse_transform(kmeans.cluster_centers_))\n",
    "cluster_dataframe = pd.DataFrame(np.array(k), columns=clean_customers.columns)"
   ]
  },
  {
   "cell_type": "code",
   "execution_count": 99,
   "metadata": {},
   "outputs": [
    {
     "name": "stdout",
     "output_type": "stream",
     "text": [
      "The age by column ALTERSKATEGORIE_GROB is 3.2846541801650586 which translates to between 46+ 60. \n",
      "The sex by column ANREDE_KZ is 1.502416198163752 which translates to 50% for both sexes. \n",
      "The income of the household by column HH_EINKOMMEN_SCORE is 2.5438707635426927 which translates to high to very high. \n",
      "The likelihood of children in houshold by column  W_KEIT_KIND_HH is 5.951590134488038 which translates to unlikely. \n",
      "The distance to an inner city by column INNENSTADT is 4.92004247481782 which translates to 10-20 km. \n"
     ]
    }
   ],
   "source": [
    "# What kinds of people are part of a cluster that is overrepresented in the\n",
    "# customer data compared to the general population?\n",
    "\n",
    "#cluster 3 is overrepresented in the customer-dataset\n",
    "\n",
    "print('The age by column ALTERSKATEGORIE_GROB is {} which translates to between 46+ 60. '.format(cluster_dataframe.iloc[3]['ALTERSKATEGORIE_GROB']))\n",
    "print('The sex by column ANREDE_KZ is {} which translates to 50% for both sexes. '.format(cluster_dataframe.iloc[3]['ANREDE_KZ']))\n",
    "print('The income of the household by column HH_EINKOMMEN_SCORE is {} which translates to high to very high. '.format(cluster_dataframe.iloc[3]['HH_EINKOMMEN_SCORE']))\n",
    "print('The likelihood of children in houshold by column  W_KEIT_KIND_HH is {} which translates to unlikely. '.format(cluster_dataframe.iloc[3]['W_KEIT_KIND_HH']))\n",
    "print('The distance to an inner city by column INNENSTADT is {} which translates to 10-20 km. '.format(cluster_dataframe.iloc[3]['INNENSTADT']))"
   ]
  },
  {
   "cell_type": "code",
   "execution_count": 104,
   "metadata": {},
   "outputs": [
    {
     "name": "stdout",
     "output_type": "stream",
     "text": [
      "The age by column ALTERSKATEGORIE_GROB is 2.670835789094984 which translates to most of them 30-45. \n",
      "The sex by column ANREDE_KZ is 1.1711743537926997 which translates to mostly male. \n",
      "The income of the household by column HH_EINKOMMEN_SCORE is 3.9767681053065385 which translates to low/average. \n",
      "The likelihood of children in houshold by column  W_KEIT_KIND_HH is 4.17045247236303 which translates to average. \n",
      "The distance to an inner city by column INNENSTADT is 4.614855057207421 which translates to around 10 to 20 km. \n"
     ]
    }
   ],
   "source": [
    "# What kinds of people are part of a cluster that is underrepresented in the\n",
    "# customer data compared to the general population?\n",
    "\n",
    "#cluster 9 and 0 are underrepresented in the customer-dataset\n",
    "\n",
    "print('The age by column ALTERSKATEGORIE_GROB is {} which translates to most of them 30-45. '.format(cluster_dataframe.iloc[0]['ALTERSKATEGORIE_GROB']))\n",
    "print('The sex by column ANREDE_KZ is {} which translates to mostly male. '.format(cluster_dataframe.iloc[0]['ANREDE_KZ']))\n",
    "print('The income of the household by column HH_EINKOMMEN_SCORE is {} which translates to low/average. '.format(cluster_dataframe.iloc[0]['HH_EINKOMMEN_SCORE']))\n",
    "print('The likelihood of children in houshold by column  W_KEIT_KIND_HH is {} which translates to average. '.format(cluster_dataframe.iloc[0]['W_KEIT_KIND_HH']))\n",
    "print('The distance to an inner city by column INNENSTADT is {} which translates to around 10 to 20 km. '.format(cluster_dataframe.iloc[0]['INNENSTADT']))"
   ]
  },
  {
   "cell_type": "markdown",
   "metadata": {},
   "source": [
    "## Part 2: Supervised Learning Model\n",
    "\n",
    "Now that you've found which parts of the population are more likely to be customers of the mail-order company, it's time to build a prediction model. Each of the rows in the \"MAILOUT\" data files represents an individual that was targeted for a mailout campaign. Ideally, we should be able to use the demographic information from each individual to decide whether or not it will be worth it to include that person in the campaign.\n",
    "\n",
    "The \"MAILOUT\" data has been split into two approximately equal parts, each with almost 43 000 data rows. In this part, you can verify your model with the \"TRAIN\" partition, which includes a column, \"RESPONSE\", that states whether or not a person became a customer of the company following the campaign. In the next part, you'll need to create predictions on the \"TEST\" partition, where the \"RESPONSE\" column has been withheld."
   ]
  },
  {
   "cell_type": "code",
   "execution_count": 106,
   "metadata": {},
   "outputs": [],
   "source": [
    "# load data\n",
    "mailout_train = pd.read_csv('mailout_train.csv', sep=',', dtype={'CAMEO_DEUG_2015': object, 'CAMEO_INTL_2015':object})"
   ]
  },
  {
   "cell_type": "code",
   "execution_count": 107,
   "metadata": {},
   "outputs": [
    {
     "data": {
      "text/html": [
       "<div>\n",
       "<style scoped>\n",
       "    .dataframe tbody tr th:only-of-type {\n",
       "        vertical-align: middle;\n",
       "    }\n",
       "\n",
       "    .dataframe tbody tr th {\n",
       "        vertical-align: top;\n",
       "    }\n",
       "\n",
       "    .dataframe thead th {\n",
       "        text-align: right;\n",
       "    }\n",
       "</style>\n",
       "<table border=\"1\" class=\"dataframe\">\n",
       "  <thead>\n",
       "    <tr style=\"text-align: right;\">\n",
       "      <th></th>\n",
       "      <th>Unnamed: 0</th>\n",
       "      <th>LNR</th>\n",
       "      <th>AGER_TYP</th>\n",
       "      <th>AKT_DAT_KL</th>\n",
       "      <th>ALTER_HH</th>\n",
       "      <th>ALTER_KIND1</th>\n",
       "      <th>ALTER_KIND2</th>\n",
       "      <th>ALTER_KIND3</th>\n",
       "      <th>ALTER_KIND4</th>\n",
       "      <th>ALTERSKATEGORIE_FEIN</th>\n",
       "      <th>...</th>\n",
       "      <th>VK_DHT4A</th>\n",
       "      <th>VK_DISTANZ</th>\n",
       "      <th>VK_ZG11</th>\n",
       "      <th>W_KEIT_KIND_HH</th>\n",
       "      <th>WOHNDAUER_2008</th>\n",
       "      <th>WOHNLAGE</th>\n",
       "      <th>ZABEOTYP</th>\n",
       "      <th>RESPONSE</th>\n",
       "      <th>ANREDE_KZ</th>\n",
       "      <th>ALTERSKATEGORIE_GROB</th>\n",
       "    </tr>\n",
       "  </thead>\n",
       "  <tbody>\n",
       "    <tr>\n",
       "      <th>0</th>\n",
       "      <td>0</td>\n",
       "      <td>1763</td>\n",
       "      <td>2</td>\n",
       "      <td>1.0</td>\n",
       "      <td>8.0</td>\n",
       "      <td>NaN</td>\n",
       "      <td>NaN</td>\n",
       "      <td>NaN</td>\n",
       "      <td>NaN</td>\n",
       "      <td>8.0</td>\n",
       "      <td>...</td>\n",
       "      <td>5.0</td>\n",
       "      <td>2.0</td>\n",
       "      <td>1.0</td>\n",
       "      <td>6.0</td>\n",
       "      <td>9.0</td>\n",
       "      <td>3.0</td>\n",
       "      <td>3</td>\n",
       "      <td>0</td>\n",
       "      <td>2</td>\n",
       "      <td>4</td>\n",
       "    </tr>\n",
       "    <tr>\n",
       "      <th>1</th>\n",
       "      <td>1</td>\n",
       "      <td>1771</td>\n",
       "      <td>1</td>\n",
       "      <td>4.0</td>\n",
       "      <td>13.0</td>\n",
       "      <td>NaN</td>\n",
       "      <td>NaN</td>\n",
       "      <td>NaN</td>\n",
       "      <td>NaN</td>\n",
       "      <td>13.0</td>\n",
       "      <td>...</td>\n",
       "      <td>1.0</td>\n",
       "      <td>2.0</td>\n",
       "      <td>1.0</td>\n",
       "      <td>4.0</td>\n",
       "      <td>9.0</td>\n",
       "      <td>7.0</td>\n",
       "      <td>1</td>\n",
       "      <td>0</td>\n",
       "      <td>2</td>\n",
       "      <td>3</td>\n",
       "    </tr>\n",
       "    <tr>\n",
       "      <th>2</th>\n",
       "      <td>2</td>\n",
       "      <td>1776</td>\n",
       "      <td>1</td>\n",
       "      <td>1.0</td>\n",
       "      <td>9.0</td>\n",
       "      <td>NaN</td>\n",
       "      <td>NaN</td>\n",
       "      <td>NaN</td>\n",
       "      <td>NaN</td>\n",
       "      <td>7.0</td>\n",
       "      <td>...</td>\n",
       "      <td>6.0</td>\n",
       "      <td>4.0</td>\n",
       "      <td>2.0</td>\n",
       "      <td>NaN</td>\n",
       "      <td>9.0</td>\n",
       "      <td>2.0</td>\n",
       "      <td>3</td>\n",
       "      <td>0</td>\n",
       "      <td>1</td>\n",
       "      <td>4</td>\n",
       "    </tr>\n",
       "    <tr>\n",
       "      <th>3</th>\n",
       "      <td>3</td>\n",
       "      <td>1460</td>\n",
       "      <td>2</td>\n",
       "      <td>1.0</td>\n",
       "      <td>6.0</td>\n",
       "      <td>NaN</td>\n",
       "      <td>NaN</td>\n",
       "      <td>NaN</td>\n",
       "      <td>NaN</td>\n",
       "      <td>6.0</td>\n",
       "      <td>...</td>\n",
       "      <td>8.0</td>\n",
       "      <td>11.0</td>\n",
       "      <td>11.0</td>\n",
       "      <td>6.0</td>\n",
       "      <td>9.0</td>\n",
       "      <td>1.0</td>\n",
       "      <td>3</td>\n",
       "      <td>0</td>\n",
       "      <td>2</td>\n",
       "      <td>4</td>\n",
       "    </tr>\n",
       "    <tr>\n",
       "      <th>4</th>\n",
       "      <td>4</td>\n",
       "      <td>1783</td>\n",
       "      <td>2</td>\n",
       "      <td>1.0</td>\n",
       "      <td>9.0</td>\n",
       "      <td>NaN</td>\n",
       "      <td>NaN</td>\n",
       "      <td>NaN</td>\n",
       "      <td>NaN</td>\n",
       "      <td>9.0</td>\n",
       "      <td>...</td>\n",
       "      <td>2.0</td>\n",
       "      <td>2.0</td>\n",
       "      <td>1.0</td>\n",
       "      <td>6.0</td>\n",
       "      <td>9.0</td>\n",
       "      <td>3.0</td>\n",
       "      <td>3</td>\n",
       "      <td>0</td>\n",
       "      <td>1</td>\n",
       "      <td>3</td>\n",
       "    </tr>\n",
       "  </tbody>\n",
       "</table>\n",
       "<p>5 rows × 368 columns</p>\n",
       "</div>"
      ],
      "text/plain": [
       "   Unnamed: 0   LNR  AGER_TYP  AKT_DAT_KL  ALTER_HH  ALTER_KIND1  ALTER_KIND2  \\\n",
       "0           0  1763         2         1.0       8.0          NaN          NaN   \n",
       "1           1  1771         1         4.0      13.0          NaN          NaN   \n",
       "2           2  1776         1         1.0       9.0          NaN          NaN   \n",
       "3           3  1460         2         1.0       6.0          NaN          NaN   \n",
       "4           4  1783         2         1.0       9.0          NaN          NaN   \n",
       "\n",
       "   ALTER_KIND3  ALTER_KIND4  ALTERSKATEGORIE_FEIN         ...           \\\n",
       "0          NaN          NaN                   8.0         ...            \n",
       "1          NaN          NaN                  13.0         ...            \n",
       "2          NaN          NaN                   7.0         ...            \n",
       "3          NaN          NaN                   6.0         ...            \n",
       "4          NaN          NaN                   9.0         ...            \n",
       "\n",
       "   VK_DHT4A  VK_DISTANZ  VK_ZG11  W_KEIT_KIND_HH  WOHNDAUER_2008  WOHNLAGE  \\\n",
       "0       5.0         2.0      1.0             6.0             9.0       3.0   \n",
       "1       1.0         2.0      1.0             4.0             9.0       7.0   \n",
       "2       6.0         4.0      2.0             NaN             9.0       2.0   \n",
       "3       8.0        11.0     11.0             6.0             9.0       1.0   \n",
       "4       2.0         2.0      1.0             6.0             9.0       3.0   \n",
       "\n",
       "   ZABEOTYP  RESPONSE ANREDE_KZ ALTERSKATEGORIE_GROB  \n",
       "0         3         0         2                    4  \n",
       "1         1         0         2                    3  \n",
       "2         3         0         1                    4  \n",
       "3         3         0         2                    4  \n",
       "4         3         0         1                    3  \n",
       "\n",
       "[5 rows x 368 columns]"
      ]
     },
     "execution_count": 107,
     "metadata": {},
     "output_type": "execute_result"
    }
   ],
   "source": [
    "# overview of train data\n",
    "mailout_train.head()"
   ]
  },
  {
   "cell_type": "code",
   "execution_count": 118,
   "metadata": {},
   "outputs": [],
   "source": [
    "# drop 'Unnamed: 0' because it is just a duplicate of the index\n",
    "mailout_train_X = mailout_train.iloc[:,1:]"
   ]
  },
  {
   "cell_type": "code",
   "execution_count": 119,
   "metadata": {},
   "outputs": [],
   "source": [
    "# drop 'RESPONSE' from X because it contains the target variabl\n",
    "mailout_train_X.drop('RESPONSE', inplace=True, axis=1)"
   ]
  },
  {
   "cell_type": "code",
   "execution_count": 122,
   "metadata": {},
   "outputs": [],
   "source": [
    "# create function to clean the test data, cleaning is similar to cleaning_function above, only difference is that all cat\n",
    "# columns are encoded because there is enough memory as the dataset is not too big\n",
    "def cleaning_function2(df1):\n",
    "    '''\n",
    "       function to clean and prepare the data for supervised machine learning\n",
    "       input:dataframe raw\n",
    "       output:dataframe cleaned\n",
    "    '''\n",
    "    df = df1.copy()\n",
    "    df.drop('LNR', inplace=True, axis=1)    \n",
    "    df['CAMEO_DEU_2015'] = df['CAMEO_DEU_2015'].replace('XX', np.nan)\n",
    "    df['CAMEO_DEUG_2015'] = df['CAMEO_DEUG_2015'].replace('X', np.nan).astype(float)\n",
    "    df['CAMEO_INTL_2015'] = df['CAMEO_INTL_2015'].replace('XX', np.nan).astype(float)\n",
    "\n",
    "    df['D19_LETZTER_KAUF_BRANCHE'] = df['D19_LETZTER_KAUF_BRANCHE'].replace('D19_UNBEKANNT', np.nan)\n",
    "    df['EINGEFUEGT_AM'] = df['EINGEFUEGT_AM'].str.slice(0,4).astype(float)\n",
    "    df['OST_WEST_KZ'] = df['OST_WEST_KZ'].replace(['O', 'W'], [0,1])\n",
    "    \n",
    "    for i in range(len(column_metadata2)):\n",
    "        to_nan = column_metadata2.iloc[i]['to_nan']\n",
    "        col_name = column_metadata2.iloc[i]['col_name']\n",
    "      \n",
    "        if (to_nan == 'minus1'):\n",
    "            df[col_name] = df[col_name].replace([-1, -1.0], [np.nan, np.nan])\n",
    "        \n",
    "        elif (to_nan == 'zero'):\n",
    "            df[col_name] = df[col_name].replace([-1, -1.0], [np.nan, np.nan])\n",
    "    \n",
    "        elif (to_nan == 'minus1_nine'):\n",
    "            df[col_name] = df[col_name].replace([-1, 9, -1.0, 9.0], [np.nan, np.nan, np.nan, np.nan])\n",
    "    \n",
    "        elif (to_nan == 'minus1_nine'):\n",
    "            df[col_name] = df[col_name].replace([-1, 9, -1.0, 9.0], [np.nan, np.nan, np.nan, np.nan])\n",
    "        \n",
    "    df.drop(drop_list_20percent, axis=1, inplace=True)\n",
    "    \n",
    "      \n",
    "    for column in df.columns.tolist():\n",
    "        if (column_metadata2[column_metadata2['col_name']==column]['format']=='num').iloc[0]:\n",
    "            df[column].fillna(df[column].mean(), inplace=True)\n",
    "\n",
    "        else:\n",
    "            df[column].fillna(df[column].mode()[0], inplace=True)\n",
    "    \n",
    "    # instead of one-hot-encoding only few cat columns like before here are all cat columns encoded\n",
    "    cat_col_set = set(cat_column_meta['col_name'].tolist())\n",
    "    col_set = set(df.columns)\n",
    "    one_hot_list = list(col_set.intersection(cat_col_set))\n",
    "    one_hot_list\n",
    "    df = pd.get_dummies(data=df, columns=one_hot_list)\n",
    "    \n",
    "    df_scaler_array = df.values\n",
    "    scaler_df = pd.DataFrame(scaler.fit_transform(df_scaler_array), columns=df.columns.tolist())\n",
    "    \n",
    "    \n",
    "    return scaler_df"
   ]
  },
  {
   "cell_type": "code",
   "execution_count": 123,
   "metadata": {},
   "outputs": [],
   "source": [
    "# clean X data\n",
    "mailout_train_X = cleaning_function2(mailout_train_X)"
   ]
  },
  {
   "cell_type": "code",
   "execution_count": 124,
   "metadata": {},
   "outputs": [
    {
     "data": {
      "text/plain": [
       "(42962, 606)"
      ]
     },
     "execution_count": 124,
     "metadata": {},
     "output_type": "execute_result"
    }
   ],
   "source": [
    "# show X cleaned shape\n",
    "mailout_train_X.shape"
   ]
  },
  {
   "cell_type": "code",
   "execution_count": 126,
   "metadata": {},
   "outputs": [],
   "source": [
    "# create target column y\n",
    "index_list = list(mailout_train_X.index)\n",
    "mailout_train_y = mailout_train.loc[index_list]['RESPONSE']"
   ]
  },
  {
   "cell_type": "code",
   "execution_count": 132,
   "metadata": {},
   "outputs": [
    {
     "data": {
      "text/plain": [
       "0    42430\n",
       "1      532\n",
       "Name: RESPONSE, dtype: int64"
      ]
     },
     "execution_count": 132,
     "metadata": {},
     "output_type": "execute_result"
    }
   ],
   "source": [
    "# show the distribution of the target value\n",
    "mailout_train_y.value_counts()"
   ]
  },
  {
   "cell_type": "markdown",
   "metadata": {},
   "source": [
    "The distribution of the target value is highly imbalanced, so that a normal train-test-split could transport the imbalance into the machine learning algorithm. So I decided to use a stratified fold with typically 5 splits."
   ]
  },
  {
   "cell_type": "code",
   "execution_count": 133,
   "metadata": {},
   "outputs": [
    {
     "data": {
      "text/plain": [
       "5"
      ]
     },
     "execution_count": 133,
     "metadata": {},
     "output_type": "execute_result"
    }
   ],
   "source": [
    "#create a stratified fold with 5 splits\n",
    "skf = StratifiedKFold(n_splits=5, random_state=123)\n",
    "skf.get_n_splits(mailout_train_X, mailout_train_y)"
   ]
  },
  {
   "cell_type": "code",
   "execution_count": 136,
   "metadata": {},
   "outputs": [],
   "source": [
    "# two boosting algorithms are choosen to try the prediction, they are booth working on top of another model, decision tree,\n",
    "# to make the prediction. the score on which they are valuated is the roc_auc.\n",
    "\n",
    "clf1 = GradientBoostingRegressor(random_state=123)\n",
    "clf2 = XGBRegressor(random_state=123)"
   ]
  },
  {
   "cell_type": "code",
   "execution_count": 140,
   "metadata": {},
   "outputs": [],
   "source": [
    "# calculate scores for both classifiers\n",
    "scores_model = {}\n",
    "\n",
    "for i, clf in enumerate([clf1, clf2]):\n",
    " \n",
    "    scores = []\n",
    "    for train_index, test_index in skf.split(mailout_train_X, mailout_train_y):\n",
    " \n",
    "        X_train, X_test = mailout_train_X.iloc[train_index], mailout_train_X.iloc[test_index]\n",
    "        y_train, y_test = mailout_train_y.iloc[train_index], mailout_train_y.iloc[test_index]\n",
    "\n",
    "        clf.fit(X_train, y_train)\n",
    "        y_pred = clf.predict(X_test)\n",
    "\n",
    "        score = roc_auc_score(y_test, y_pred)\n",
    "        scores.append(score)\n",
    "\n",
    "    scores_model[clf] = scores"
   ]
  },
  {
   "cell_type": "code",
   "execution_count": 160,
   "metadata": {},
   "outputs": [
    {
     "name": "stdout",
     "output_type": "stream",
     "text": [
      "GradientBoostingRegressor has average roc_auc_score 0.6795694376119943\n",
      "XGBRegressor has average roc_auc_score 0.6793641319799271\n"
     ]
    }
   ],
   "source": [
    "# show the average score for the folds for the two algorithms\n",
    "i=0\n",
    "for key in scores_model.keys():\n",
    "    print('{} has average roc_auc_score {}'.format((['GradientBoostingRegressor', 'XGBRegressor'][i]), np.mean(scores_model[key])))\n",
    "    i+=1"
   ]
  },
  {
   "cell_type": "code",
   "execution_count": 165,
   "metadata": {},
   "outputs": [
    {
     "name": "stdout",
     "output_type": "stream",
     "text": [
      "{'learning_rate': 0.1, 'min_samples_split': 2, 'n_estimators': 100}\n"
     ]
    }
   ],
   "source": [
    "# GradientBoostingRegressor is choosen because of the sligthly better roc_auc_score\n",
    "# now grid search is performed on this algorithm to improve the performance by hyperparameter tuning, the learning rate\n",
    "# and the minimum sample split to split an internal node of the algorithm are choosen for tuning\n",
    "\n",
    "parameters = {'learning_rate': [0.1, 0.2], 'n_estimators': [100], \n",
    "              'min_samples_split': [2, 4]}\n",
    "        \n",
    "        \n",
    "grid_obj = GridSearchCV(GradientBoostingRegressor(random_state=123), parameters, scoring = 'roc_auc')\n",
    "grid_obj.fit(mailout_train_X, mailout_train_y)\n",
    "print(grid_obj.best_params_)"
   ]
  },
  {
   "cell_type": "code",
   "execution_count": 167,
   "metadata": {},
   "outputs": [],
   "source": [
    "# use the best estimator of the grid search to predict model\n",
    "gridcv_estimator = grid_obj.best_estimator_\n",
    "predictions = gridcv_estimator.predict(mailout_train_X)"
   ]
  },
  {
   "cell_type": "code",
   "execution_count": 168,
   "metadata": {},
   "outputs": [
    {
     "data": {
      "text/plain": [
       "0.8435192905076739"
      ]
     },
     "execution_count": 168,
     "metadata": {},
     "output_type": "execute_result"
    }
   ],
   "source": [
    "# print the final roc_auc_score for the prediction of the mailout train dataset\n",
    "roc_auc_score( mailout_train_y, predictions)"
   ]
  },
  {
   "cell_type": "code",
   "execution_count": 176,
   "metadata": {},
   "outputs": [
    {
     "data": {
      "image/png": "[encoded data removed]",
      "text/plain": [
       "<Figure size 432x288 with 1 Axes>"
      ]
     },
     "metadata": {
      "needs_background": "light"
     },
     "output_type": "display_data"
    }
   ],
   "source": [
    "# plot the most important features for the algorithm\n",
    "pd.Series(gridcv_estimator.feature_importances_, index=mailout_train_X.columns).sort_values(ascending=False).head(25).plot.barh()\n",
    "plt.title('Feature importance')\n",
    "plt.ylabel('Column names')\n",
    "plt.xlabel('feature importance')\n",
    "plt.show()"
   ]
  },
  {
   "cell_type": "markdown",
   "metadata": {},
   "source": [
    "## Part 3: Kaggle Competition\n",
    "\n",
    "Now that you've created a model to predict which individuals are most likely to respond to a mailout campaign, it's time to test that model in competition through Kaggle. If you click on the link [here](http://www.kaggle.com/t/21e6d45d4c574c7fa2d868f0e8c83140), you'll be taken to the competition page where, if you have a Kaggle account, you can enter. If you're one of the top performers, you may have the chance to be contacted by a hiring manager from Arvato or Bertelsmann for an interview!\n",
    "\n",
    "Your entry to the competition should be a CSV file with two columns. The first column should be a copy of \"LNR\", which acts as an ID number for each individual in the \"TEST\" partition. The second column, \"RESPONSE\", should be some measure of how likely each individual became a customer – this might not be a straightforward probability. As you should have found in Part 2, there is a large output class imbalance, where most individuals did not respond to the mailout. Thus, predicting individual classes and using accuracy does not seem to be an appropriate performance evaluation method. Instead, the competition will be using AUC to evaluate performance. The exact values of the \"RESPONSE\" column do not matter as much: only that the higher values try to capture as many of the actual customers as possible, early in the ROC curve sweep."
   ]
  },
  {
   "cell_type": "code",
   "execution_count": 177,
   "metadata": {},
   "outputs": [],
   "source": [
    "# load data\n",
    "mailout_test = pd.read_csv('mailout_test.csv', sep=',',dtype={'CAMEO_DEUG_2015': object, 'CAMEO_INTL_2015':object} )"
   ]
  },
  {
   "cell_type": "code",
   "execution_count": 178,
   "metadata": {},
   "outputs": [],
   "source": [
    "# overview of train data\n",
    "mailout_test_X = mailout_test.iloc[:,1:]"
   ]
  },
  {
   "cell_type": "code",
   "execution_count": 179,
   "metadata": {},
   "outputs": [],
   "source": [
    "# use the cleaning function to prepare the data for the algorithm\n",
    "mailout_test_X = cleaning_function2(mailout_test_X)"
   ]
  },
  {
   "cell_type": "code",
   "execution_count": 180,
   "metadata": {},
   "outputs": [
    {
     "data": {
      "text/plain": [
       "(42833, 606)"
      ]
     },
     "execution_count": 180,
     "metadata": {},
     "output_type": "execute_result"
    }
   ],
   "source": [
    "# check shape for inpute shape of algorithm\n",
    "mailout_test_X.shape"
   ]
  },
  {
   "cell_type": "code",
   "execution_count": 181,
   "metadata": {},
   "outputs": [],
   "source": [
    "# make predictions\n",
    "predictions_kaggle = gridcv_estimator.predict(mailout_test_X)"
   ]
  },
  {
   "cell_type": "code",
   "execution_count": 182,
   "metadata": {},
   "outputs": [],
   "source": [
    "kaggle_sub_df = pd.DataFrame(columns=['LNR', 'RESPONSE'])\n",
    "kaggle_sub_df['LNR'] = mailout_test['LNR']\n",
    "kaggle_sub_df['RESPONSE'] = predictions_kaggle"
   ]
  },
  {
   "cell_type": "code",
   "execution_count": 183,
   "metadata": {},
   "outputs": [],
   "source": [
    "kaggle_sub_df.to_csv('kaggle_sub.csv', index=False)"
   ]
  },
  {
   "cell_type": "code",
   "execution_count": 184,
   "metadata": {},
   "outputs": [
    {
     "data": {
      "text/plain": [
       "(42833, 2)"
      ]
     },
     "execution_count": 184,
     "metadata": {},
     "output_type": "execute_result"
    }
   ],
   "source": [
    "kaggle_sub_df.shape"
   ]
  },
  {
   "cell_type": "markdown",
   "metadata": {},
   "source": [
    "The score in the kaggle competition is 0.71502 ."
   ]
  }
 ],
 "metadata": {
  "kernelspec": {
   "display_name": "Python 3",
   "language": "python",
   "name": "python3"
  },
  "language_info": {
   "codemirror_mode": {
    "name": "ipython",
    "version": 3
   },
   "file_extension": ".py",
   "mimetype": "text/x-python",
   "name": "python",
   "nbconvert_exporter": "python",
   "pygments_lexer": "ipython3",
   "version": "3.6.6"
  }
 },
 "nbformat": 4,
 "nbformat_minor": 2
}
